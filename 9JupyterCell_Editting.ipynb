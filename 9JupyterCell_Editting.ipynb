{
 "cells": [
  {
   "cell_type": "markdown",
   "metadata": {},
   "source": [
    "# **Jupyter Notebook Cell Editting**\n",
    "---"
   ]
  },
  {
   "cell_type": "markdown",
   "metadata": {},
   "source": [
    "```\n",
    "# hello\n",
    "## hello\n",
    "### hello\n",
    "#### hello\n",
    "##### hello\n",
    "###### hello\n",
    "```"
   ]
  },
  {
   "cell_type": "markdown",
   "metadata": {},
   "source": [
    "# hello\n",
    "## hello\n",
    "### hello\n",
    "#### hello\n",
    "##### hello\n",
    "###### hello\n",
    "---"
   ]
  },
  {
   "cell_type": "markdown",
   "metadata": {},
   "source": [
    "```\n",
    "*Italics*\n",
    "**Bold**\n",
    "- Unorder list\n",
    "1. Order list\n",
    "> blockquote\n",
    "---\n",
    "```"
   ]
  },
  {
   "cell_type": "markdown",
   "metadata": {},
   "source": [
    "*Italics*\n",
    "\n",
    "**Bold**\n",
    "- Unorder list\n",
    "1. Order list\n",
    "> blockquote\n",
    "---"
   ]
  },
  {
   "cell_type": "markdown",
   "metadata": {},
   "source": [
    "```\n",
    "type some `Inline code`\n",
    "\n",
    "type some in block code\n",
    "'''triple left quote\n",
    "    hello worls!\n",
    "    how are you?\n",
    "'''\n",
    "```"
   ]
  },
  {
   "cell_type": "markdown",
   "metadata": {},
   "source": [
    "type some `Inline code`\n",
    "\n",
    "type some in block code\n",
    "```\n",
    "hello worls!\n",
    "how are you?\n",
    "```\n",
    "---"
   ]
  },
  {
   "cell_type": "markdown",
   "metadata": {},
   "source": [
    "```\n",
    "equation $ x^2 $\n",
    "\n",
    "www.jupyter.org\n",
    "\n",
    "Customized [links](www.jupyter.org)\n",
    "```"
   ]
  },
  {
   "cell_type": "markdown",
   "metadata": {},
   "source": [
    "equation $ x^2 $\n",
    "\n",
    "www.jupyter.org\n",
    "\n",
    "Customized [links](www.jupyter.org)"
   ]
  }
 ],
 "metadata": {
  "kernelspec": {
   "display_name": "Python 3",
   "language": "python",
   "name": "python3"
  },
  "language_info": {
   "codemirror_mode": {
    "name": "ipython",
    "version": 3
   },
   "file_extension": ".py",
   "mimetype": "text/x-python",
   "name": "python",
   "nbconvert_exporter": "python",
   "pygments_lexer": "ipython3",
   "version": "3.8.5"
  }
 },
 "nbformat": 4,
 "nbformat_minor": 4
}
