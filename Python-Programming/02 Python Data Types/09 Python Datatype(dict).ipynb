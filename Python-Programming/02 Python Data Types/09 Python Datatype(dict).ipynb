{
 "cells": [
  {
   "cell_type": "markdown",
   "metadata": {},
   "source": [
    "# **Data Types**\n",
    "- Mapping Type: dict"
   ]
  },
  {
   "cell_type": "markdown",
   "metadata": {},
   "source": [
    "> Dictionaries are used to store data values in key:value pairs.\n",
    "\n",
    "> A dictionary is a collection which is unordered, changeable and does not allow duplicates.\n",
    "\n",
    "> Each key is separated from its value by a colon (:), the items are separated by commas, and the whole thing is enclosed in curly braces.\n",
    "\n",
    "> Keys are unique within a dictionary while values may not be."
   ]
  },
  {
   "cell_type": "code",
   "execution_count": 2,
   "metadata": {},
   "outputs": [
    {
     "data": {
      "text/plain": [
       "dict"
      ]
     },
     "execution_count": 2,
     "metadata": {},
     "output_type": "execute_result"
    }
   ],
   "source": [
    "type({})"
   ]
  },
  {
   "cell_type": "code",
   "execution_count": 56,
   "metadata": {},
   "outputs": [
    {
     "name": "stdout",
     "output_type": "stream",
     "text": [
      "{'Name': 'Fenil', 'Address': 'Bardoli'}\n"
     ]
    }
   ],
   "source": [
    "adict = {\n",
    "  \"Name\": \"Fenil\",\n",
    "  \"Address\": \"Bardoli\"\n",
    "}\n",
    "print(adict)"
   ]
  },
  {
   "cell_type": "code",
   "execution_count": 42,
   "metadata": {},
   "outputs": [
    {
     "name": "stdout",
     "output_type": "stream",
     "text": [
      "Fenil\n",
      "Fenil\n"
     ]
    }
   ],
   "source": [
    "# Accessing Items\n",
    "print(adict[\"Name\"])\n",
    "print(adict.get(\"Name\"))"
   ]
  },
  {
   "cell_type": "code",
   "execution_count": 47,
   "metadata": {},
   "outputs": [
    {
     "name": "stdout",
     "output_type": "stream",
     "text": [
      "dict_keys(['Name', 'Address'])\n"
     ]
    }
   ],
   "source": [
    "# Get Keys\n",
    "print(adict.keys())"
   ]
  },
  {
   "cell_type": "code",
   "execution_count": 48,
   "metadata": {},
   "outputs": [
    {
     "name": "stdout",
     "output_type": "stream",
     "text": [
      "dict_values(['Fenil', 'Bardoli'])\n"
     ]
    }
   ],
   "source": [
    "# Get Values\n",
    "print(adict.values())"
   ]
  },
  {
   "cell_type": "code",
   "execution_count": 50,
   "metadata": {},
   "outputs": [
    {
     "name": "stdout",
     "output_type": "stream",
     "text": [
      "dict_items([('Name', 'Fenil'), ('Address', 'Bardoli')])\n"
     ]
    }
   ],
   "source": [
    "# Get Items\n",
    "print(adict.items())"
   ]
  },
  {
   "cell_type": "code",
   "execution_count": 36,
   "metadata": {},
   "outputs": [
    {
     "name": "stdout",
     "output_type": "stream",
     "text": [
      "{'Name': 'Fenil', 'Address': 'Bardoli', 'Surname': 'Maisuria'}\n"
     ]
    }
   ],
   "source": [
    "# Add new key with value\n",
    "adict['Surname'] = \"Maisuria\"\n",
    "print(adict)"
   ]
  },
  {
   "cell_type": "code",
   "execution_count": 59,
   "metadata": {},
   "outputs": [
    {
     "name": "stdout",
     "output_type": "stream",
     "text": [
      "{'Name': 'Fenil', 'Address': 'Surat'}\n"
     ]
    }
   ],
   "source": [
    "# Update Dictionary\n",
    "adict.update({\"Address\": \"Surat\"})\n",
    "print(adict)"
   ]
  },
  {
   "cell_type": "code",
   "execution_count": 60,
   "metadata": {},
   "outputs": [
    {
     "name": "stdout",
     "output_type": "stream",
     "text": [
      "{'Name': 'Fenil'}\n"
     ]
    }
   ],
   "source": [
    "adict.pop(\"Address\")\n",
    "print(adict)"
   ]
  },
  {
   "cell_type": "code",
   "execution_count": 37,
   "metadata": {},
   "outputs": [
    {
     "name": "stdout",
     "output_type": "stream",
     "text": [
      "{'Address': 'Bardoli', 'Surname': 'Maisuria'}\n",
      "{}\n"
     ]
    }
   ],
   "source": [
    "# Delete Dictionary Elements\n",
    "\n",
    "del adict['Name'] # remove entry with key 'Name'\n",
    "print(adict)\n",
    "\n",
    "adict.clear()     # remove all entries in dict\n",
    "print(adict)\n",
    "\n",
    "del adict         # delete entire dictionary"
   ]
  },
  {
   "cell_type": "code",
   "execution_count": 63,
   "metadata": {},
   "outputs": [
    {
     "name": "stdout",
     "output_type": "stream",
     "text": [
      "Fenil\n"
     ]
    }
   ],
   "source": [
    "for x in adict:\n",
    "  print(adict[x])"
   ]
  },
  {
   "cell_type": "code",
   "execution_count": 65,
   "metadata": {},
   "outputs": [
    {
     "name": "stdout",
     "output_type": "stream",
     "text": [
      "{'Name': 'Fenil'}\n"
     ]
    }
   ],
   "source": [
    "mydict = adict.copy()\n",
    "print(mydict)"
   ]
  },
  {
   "cell_type": "code",
   "execution_count": 66,
   "metadata": {},
   "outputs": [
    {
     "name": "stdout",
     "output_type": "stream",
     "text": [
      "{'g1': {'name': 'Social', 'year': 2004}, 'g2': {'name': 'Personal', 'year': 2007}, 'g3': {'name': 'Family', 'year': 2011}}\n"
     ]
    }
   ],
   "source": [
    "# Nested Dictionaries\n",
    "group = {\n",
    "  \"g1\" : {\n",
    "    \"name\" : \"Social\",\n",
    "    \"year\" : 2004\n",
    "  },\n",
    "  \"g2\" : {\n",
    "    \"name\" : \"Personal\",\n",
    "    \"year\" : 2007\n",
    "  },\n",
    "  \"g3\" : {\n",
    "    \"name\" : \"Family\",\n",
    "    \"year\" : 2011\n",
    "  }\n",
    "}\n",
    "print(group)"
   ]
  },
  {
   "cell_type": "code",
   "execution_count": 68,
   "metadata": {},
   "outputs": [
    {
     "name": "stdout",
     "output_type": "stream",
     "text": [
      "{'key1': 0, 'key2': 0, 'key3': 0}\n"
     ]
    }
   ],
   "source": [
    "x = ('key1', 'key2', 'key3')\n",
    "y = 0\n",
    "\n",
    "thisdict = dict.fromkeys(x, y)\n",
    "\n",
    "print(thisdict)"
   ]
  },
  {
   "cell_type": "code",
   "execution_count": 74,
   "metadata": {},
   "outputs": [
    {
     "name": "stdout",
     "output_type": "stream",
     "text": [
      "{'brand': 'Ford', 'model': 'Mustang', 'year': 1964}\n",
      "{'brand': 'Ford', 'model': 'Mustang', 'year': 1964}\n",
      "Mustang\n"
     ]
    }
   ],
   "source": [
    "car = {\n",
    "  \"brand\": \"Ford\",\n",
    "  \"model\": \"Mustang\",\n",
    "  \"year\": 1964\n",
    "}\n",
    "print(car)\n",
    "x = car.setdefault(\"model\", \"Bronco\")\n",
    "print(car)\n",
    "print(x)"
   ]
  },
  {
   "cell_type": "code",
   "execution_count": 72,
   "metadata": {},
   "outputs": [
    {
     "name": "stdout",
     "output_type": "stream",
     "text": [
      "{'brand': 'Ford', 'model': 'Mustang', 'year': 1964}\n",
      "white\n",
      "{'brand': 'Ford', 'model': 'Mustang', 'year': 1964, 'color': 'white'}\n"
     ]
    }
   ],
   "source": [
    "car = {\n",
    "  \"brand\": \"Ford\",\n",
    "  \"model\": \"Mustang\",\n",
    "  \"year\": 1964\n",
    "}\n",
    "print(car)\n",
    "x = car.setdefault(\"color\", \"white\")\n",
    "\n",
    "print(x)\n",
    "print(car)"
   ]
  },
  {
   "cell_type": "code",
   "execution_count": null,
   "metadata": {},
   "outputs": [],
   "source": []
  }
 ],
 "metadata": {
  "kernelspec": {
   "display_name": "Python 3",
   "language": "python",
   "name": "python3"
  },
  "language_info": {
   "codemirror_mode": {
    "name": "ipython",
    "version": 3
   },
   "file_extension": ".py",
   "mimetype": "text/x-python",
   "name": "python",
   "nbconvert_exporter": "python",
   "pygments_lexer": "ipython3",
   "version": "3.8.5"
  }
 },
 "nbformat": 4,
 "nbformat_minor": 4
}
