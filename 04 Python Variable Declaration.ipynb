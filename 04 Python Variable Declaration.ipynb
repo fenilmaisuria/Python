{
 "cells": [
  {
   "cell_type": "markdown",
   "metadata": {},
   "source": [
    "# **Python Variables and Data Types**"
   ]
  },
  {
   "cell_type": "markdown",
   "metadata": {},
   "source": [
    "#### **Variables** are containers for storing data values."
   ]
  },
  {
   "cell_type": "code",
   "execution_count": 33,
   "metadata": {},
   "outputs": [
    {
     "name": "stdout",
     "output_type": "stream",
     "text": [
      "5\n"
     ]
    }
   ],
   "source": [
    "x = 5\n",
    "print(x)"
   ]
  },
  {
   "cell_type": "markdown",
   "metadata": {},
   "source": [
    "#### Multiple Assignment"
   ]
  },
  {
   "cell_type": "code",
   "execution_count": 35,
   "metadata": {},
   "outputs": [
    {
     "name": "stdout",
     "output_type": "stream",
     "text": [
      "10\n",
      "10\n"
     ]
    }
   ],
   "source": [
    "a = b  = 10\n",
    "print(a)\n",
    "print(b)"
   ]
  },
  {
   "cell_type": "code",
   "execution_count": 39,
   "metadata": {},
   "outputs": [
    {
     "name": "stdout",
     "output_type": "stream",
     "text": [
      "24\n",
      "12\n"
     ]
    }
   ],
   "source": [
    "a, b = 24,12\n",
    "print(a)\n",
    "print(b)"
   ]
  },
  {
   "cell_type": "markdown",
   "metadata": {},
   "source": [
    "#### Mathematical operation with Variable Assigment"
   ]
  },
  {
   "cell_type": "code",
   "execution_count": 41,
   "metadata": {},
   "outputs": [
    {
     "name": "stdout",
     "output_type": "stream",
     "text": [
      "36\n",
      "12\n",
      "288\n",
      "2.0\n"
     ]
    }
   ],
   "source": [
    "print(a + b)\n",
    "print(a - b)\n",
    "print(a * b)\n",
    "print(a / b)"
   ]
  },
  {
   "cell_type": "markdown",
   "metadata": {},
   "source": [
    "# **Data Types**\n",
    "- **Text Type:** str\n",
    "- **Numeric Types:** int, float, complex\n",
    "- **Sequence Types:** list, tuple, range\n",
    "- **Mapping Type:** dict\n",
    "- **Set Types:** set, frozenset\n",
    "- **Boolean Type:** bool\n",
    "- **Binary Types:** bytes, bytearray, memoryview"
   ]
  },
  {
   "cell_type": "markdown",
   "metadata": {},
   "source": [
    "### **int (Integer)**"
   ]
  },
  {
   "cell_type": "code",
   "execution_count": 9,
   "metadata": {},
   "outputs": [
    {
     "data": {
      "text/plain": [
       "10"
      ]
     },
     "execution_count": 9,
     "metadata": {},
     "output_type": "execute_result"
    }
   ],
   "source": [
    "6 + 4"
   ]
  },
  {
   "cell_type": "code",
   "execution_count": 10,
   "metadata": {},
   "outputs": [
    {
     "data": {
      "text/plain": [
       "120"
      ]
     },
     "execution_count": 10,
     "metadata": {},
     "output_type": "execute_result"
    }
   ],
   "source": [
    "12 * 10"
   ]
  },
  {
   "cell_type": "code",
   "execution_count": 51,
   "metadata": {},
   "outputs": [
    {
     "data": {
      "text/plain": [
       "int"
      ]
     },
     "execution_count": 51,
     "metadata": {},
     "output_type": "execute_result"
    }
   ],
   "source": [
    "a = 100\n",
    "type(a)"
   ]
  },
  {
   "cell_type": "markdown",
   "metadata": {},
   "source": [
    "### **str (String)**"
   ]
  },
  {
   "cell_type": "code",
   "execution_count": 16,
   "metadata": {},
   "outputs": [
    {
     "data": {
      "text/plain": [
       "'Hello, Universe!'"
      ]
     },
     "execution_count": 16,
     "metadata": {},
     "output_type": "execute_result"
    }
   ],
   "source": [
    "\"Hello, Universe!\""
   ]
  },
  {
   "cell_type": "code",
   "execution_count": 17,
   "metadata": {},
   "outputs": [
    {
     "data": {
      "text/plain": [
       "str"
      ]
     },
     "execution_count": 17,
     "metadata": {},
     "output_type": "execute_result"
    }
   ],
   "source": [
    "type(\"Hello, Universe!\")"
   ]
  },
  {
   "cell_type": "code",
   "execution_count": 23,
   "metadata": {},
   "outputs": [
    {
     "data": {
      "text/plain": [
       "str"
      ]
     },
     "execution_count": 23,
     "metadata": {},
     "output_type": "execute_result"
    }
   ],
   "source": [
    "name = \"Fenil Maisuria\"\n",
    "type(name)"
   ]
  },
  {
   "cell_type": "code",
   "execution_count": 171,
   "metadata": {},
   "outputs": [
    {
     "name": "stdout",
     "output_type": "stream",
     "text": [
      "Hello, Universe!\n",
      "H\n",
      "He\n",
      "llo\n",
      "llo, Universe!\n",
      "Hello, Universe!Hello, Universe!\n",
      "Hello, Universe! How are you?\n"
     ]
    }
   ],
   "source": [
    "#Python string\n",
    "str = 'Hello, Universe!'\n",
    "\n",
    "print (str)          # Prints complete string\n",
    "print (str[0])       # Prints first character of the string\n",
    "\n",
    "print (str[:2])      # Prints string ending from 2nd character\n",
    "print (str[2:5])     # Prints characters starting from 3rd to 5th\n",
    "print (str[2:])      # Prints string starting from 3rd character\n",
    "\n",
    "print (str * 2)      # Prints string two times\n",
    "print (str + \" How are you?\") # Prints concatenated string"
   ]
  },
  {
   "cell_type": "markdown",
   "metadata": {},
   "source": [
    "###  **float (Float)**"
   ]
  },
  {
   "cell_type": "code",
   "execution_count": 20,
   "metadata": {},
   "outputs": [
    {
     "data": {
      "text/plain": [
       "5.0"
      ]
     },
     "execution_count": 20,
     "metadata": {},
     "output_type": "execute_result"
    }
   ],
   "source": [
    "5.0 "
   ]
  },
  {
   "cell_type": "code",
   "execution_count": 21,
   "metadata": {},
   "outputs": [
    {
     "data": {
      "text/plain": [
       "float"
      ]
     },
     "execution_count": 21,
     "metadata": {},
     "output_type": "execute_result"
    }
   ],
   "source": [
    "a = 24.50\n",
    "type(a)"
   ]
  },
  {
   "cell_type": "code",
   "execution_count": 24,
   "metadata": {},
   "outputs": [
    {
     "data": {
      "text/plain": [
       "20.0"
      ]
     },
     "execution_count": 24,
     "metadata": {},
     "output_type": "execute_result"
    }
   ],
   "source": [
    "8.0 + 12"
   ]
  },
  {
   "cell_type": "markdown",
   "metadata": {},
   "source": [
    "### **complex (Complex)**"
   ]
  },
  {
   "cell_type": "code",
   "execution_count": 28,
   "metadata": {},
   "outputs": [
    {
     "data": {
      "text/plain": [
       "1j"
      ]
     },
     "execution_count": 28,
     "metadata": {},
     "output_type": "execute_result"
    }
   ],
   "source": [
    "1j"
   ]
  },
  {
   "cell_type": "code",
   "execution_count": 29,
   "metadata": {},
   "outputs": [
    {
     "data": {
      "text/plain": [
       "complex"
      ]
     },
     "execution_count": 29,
     "metadata": {},
     "output_type": "execute_result"
    }
   ],
   "source": [
    "type(1j)"
   ]
  },
  {
   "cell_type": "markdown",
   "metadata": {},
   "source": [
    "### **list[] (List)**"
   ]
  },
  {
   "cell_type": "code",
   "execution_count": 7,
   "metadata": {},
   "outputs": [
    {
     "data": {
      "text/plain": [
       "list"
      ]
     },
     "execution_count": 7,
     "metadata": {},
     "output_type": "execute_result"
    }
   ],
   "source": [
    "type([])"
   ]
  },
  {
   "cell_type": "code",
   "execution_count": 9,
   "metadata": {},
   "outputs": [
    {
     "name": "stdout",
     "output_type": "stream",
     "text": [
      "[1, 2, 3, 4, 5]\n"
     ]
    }
   ],
   "source": [
    "list1 = [1, 2, 3, 4, 5 ];\n",
    "print(list1)"
   ]
  },
  {
   "cell_type": "code",
   "execution_count": 10,
   "metadata": {},
   "outputs": [
    {
     "name": "stdout",
     "output_type": "stream",
     "text": [
      "List index 0 :  1\n",
      "List index 4 :  5\n"
     ]
    }
   ],
   "source": [
    "print('List index 0 : ',list1[0])\n",
    "print('List index 4 : ',list1[4])"
   ]
  },
  {
   "cell_type": "code",
   "execution_count": 23,
   "metadata": {},
   "outputs": [
    {
     "name": "stdout",
     "output_type": "stream",
     "text": [
      "['apple', 'banana', 'orange', 1, 2, 3, 'apple', 24.5]\n"
     ]
    },
    {
     "data": {
      "text/plain": [
       "list"
      ]
     },
     "execution_count": 23,
     "metadata": {},
     "output_type": "execute_result"
    }
   ],
   "source": [
    "# Using the list() constructor to make a List:\n",
    "list2 = list((\"apple\", \"banana\", \"orange\", 1 , 2 , 3 ,'apple', 24.5)) # note the double round-brackets\n",
    "print(list2)\n",
    "type(list2)"
   ]
  },
  {
   "cell_type": "code",
   "execution_count": 46,
   "metadata": {},
   "outputs": [
    {
     "name": "stdout",
     "output_type": "stream",
     "text": [
      "List Value   :  ['apple', 'banana', 'orange', 1, 2, 3, 'apple', 24.5]\n",
      "list2[:5]    :  ['apple', 'banana', 'orange', 1, 2]\n",
      "list2[5:]    :  [3, 'apple', 24.5]\n",
      "list2[-1]    :  24.5\n",
      "list2[2:6]   :  ['orange', 1, 2, 3]\n",
      "list2[-4:-1] :  [2, 3, 'apple']\n"
     ]
    }
   ],
   "source": [
    "# List indexing\n",
    "print('List Value   : ',list2)\n",
    "print('list2[:5]    : ',list2[:5])    # between 1 to 4 index \n",
    "print('list2[5:]    : ',list2[5:])    # starting from 5 to the end\n",
    "print('list2[-1]    : ',list2[-1])    # Last index value\n",
    "print('list2[2:6]   : ',list2[2:6])   # Starting from 2 to 5\n",
    "print('list2[-4:-1] : ',list2[-4:-1]) # from last 4 to last"
   ]
  },
  {
   "cell_type": "code",
   "execution_count": 64,
   "metadata": {},
   "outputs": [
    {
     "name": "stdout",
     "output_type": "stream",
     "text": [
      "[1, 2, 3, 4, 5, 6]\n",
      "[1, 2, 3, 1, 2, 3, 1, 2, 3, 1, 2, 3]\n",
      "True\n",
      "1 2 3 4 5 6 "
     ]
    }
   ],
   "source": [
    "# List Basic Operation\n",
    "l1 = [1,2,3]\n",
    "l2 = [4,5,6]\n",
    "l3 = l1 + l2\n",
    "print(l3)        # Concatenation \n",
    "print(l1 * 4)    # Repetition \n",
    "print(3 in l1)   # Membership\n",
    "\n",
    "for x in l3 :    # Iteration\n",
    "    print (x,end = ' ')"
   ]
  },
  {
   "cell_type": "code",
   "execution_count": 63,
   "metadata": {},
   "outputs": [
    {
     "name": "stdout",
     "output_type": "stream",
     "text": [
      "length of the list    :  3\n",
      "Maximum value in list :  3\n",
      "Minimum value in list :  1\n"
     ]
    }
   ],
   "source": [
    "print('length of the list    : ',len(l1))\n",
    "print('Maximum value in list : ',max(l1))\n",
    "print('Minimum value in list : ',min(l1))"
   ]
  },
  {
   "cell_type": "code",
   "execution_count": 119,
   "metadata": {},
   "outputs": [
    {
     "name": "stdout",
     "output_type": "stream",
     "text": [
      "['apple', 'banana', 'orange'] \n",
      "\n",
      "Append mango              :  ['apple', 'banana', 'orange', 'mango']\n",
      "Change index 1 value      :  ['apple', 'blackcurrant', 'orange', 'mango']\n",
      "Insert value at index 2   :  ['apple', 'blackcurrant', 'watermelon', 'orange', 'mango']\n",
      "Extend List with l1 value :  ['apple', 'blackcurrant', 'watermelon', 'orange', 'mango', 1, 2, 3]\n",
      "Remove value 3 :          :  ['apple', 'blackcurrant', 'watermelon', 'orange', 'mango', 1, 2]\n",
      "Pop index 6 and value     :  ['apple', 'blackcurrant', 'watermelon', 'orange', 'mango', 1]\n",
      "Delete index 5 and value  :  ['apple', 'blackcurrant', 'watermelon', 'orange', 'mango']\n",
      "Clear the List            :  []\n",
      "List Comprehension        :  [0, 1, 2, 3, 4, 5, 6, 7, 8, 9]\n"
     ]
    }
   ],
   "source": [
    "fruits = [\"apple\", \"banana\", \"orange\"]\n",
    "print(fruits,'\\n')\n",
    "\n",
    "# Append \n",
    "fruits.append(\"mango\")\n",
    "print('Append mango              : ',fruits)\n",
    "\n",
    "# Change \n",
    "fruits[1] = \"blackcurrant\"\n",
    "print('Change index 1 value      : ',fruits)\n",
    "\n",
    "# Insert \n",
    "fruits.insert(2,\"watermelon\")\n",
    "print('Insert value at index 2   : ',fruits)\n",
    "\n",
    "# Extend\n",
    "fruits.extend(l1)\n",
    "print('Extend List with l1 value : ',fruits)\n",
    "\n",
    "# Remove \n",
    "fruits.remove(3)\n",
    "print('Remove value 3 :          : ',fruits)\n",
    "\n",
    "# Pop \n",
    "fruits.pop(6)\n",
    "print('Pop index 6 and value     : ',fruits)\n",
    "\n",
    "# Delete\n",
    "del fruits[5]\n",
    "print('Delete index 5 and value  : ',fruits)\n",
    "\n",
    "fruits.clear()\n",
    "print('Clear the List            : ',fruits)\n",
    "\n",
    "# List Comprehension\n",
    "newlist = [x for x in range(10)]\n",
    "print('List Comprehension        : ',newlist)"
   ]
  },
  {
   "cell_type": "code",
   "execution_count": 138,
   "metadata": {},
   "outputs": [
    {
     "name": "stdout",
     "output_type": "stream",
     "text": [
      "Sort List Alphanumerically :  ['banana', 'kiwi', 'mango', 'orange', 'pineapple']\n",
      "Sort List Numerically      :  [23, 50, 65, 82, 100]\n",
      "Sort List Descending       :  [100, 82, 65, 50, 23]\n",
      "Copy List into ls2         :  [100, 82, 65, 50, 23]\n",
      "Count value of 100         :  1\n",
      "Find index of 50           :  3\n"
     ]
    }
   ],
   "source": [
    "# Sort List Alphanumerically\n",
    "fruits = [\"orange\", \"mango\", \"kiwi\", \"pineapple\", \"banana\"]\n",
    "fruits.sort()\n",
    "print('Sort List Alphanumerically : ',fruits)\n",
    "\n",
    "# Sort List Numerically\n",
    "mylist = [100, 50, 65, 82, 23]\n",
    "mylist.sort()\n",
    "print('Sort List Numerically      : ',mylist)\n",
    "\n",
    "# Sort List Descending\n",
    "mylist.sort(reverse = True)\n",
    "print('Sort List Descending       : ',mylist)\n",
    "\n",
    "# Copy\n",
    "ls2 = mylist.copy()\n",
    "print('Copy List into ls2         : ',ls2)\n",
    "\n",
    "# Count\n",
    "x = ls2.count(100)\n",
    "print('Count value of 100         : ',x)\n",
    "\n",
    "y = ls2.index(50)\n",
    "print('Find index of 50           : ',y)"
   ]
  },
  {
   "cell_type": "markdown",
   "metadata": {},
   "source": [
    "### **tuple() (Tuple)**"
   ]
  },
  {
   "cell_type": "code",
   "execution_count": 141,
   "metadata": {},
   "outputs": [
    {
     "data": {
      "text/plain": [
       "tuple"
      ]
     },
     "execution_count": 141,
     "metadata": {},
     "output_type": "execute_result"
    }
   ],
   "source": [
    "tupl=tuple()\n",
    "type(tupl)"
   ]
  },
  {
   "cell_type": "code",
   "execution_count": 165,
   "metadata": {},
   "outputs": [
    {
     "name": "stdout",
     "output_type": "stream",
     "text": [
      "('apple', 'banana', 'orange')\n",
      "Length of tuple       :  3\n",
      "Tuple slicing         :  banana\n",
      "Count value of banana :  1\n",
      "Index of orange value :  2\n"
     ]
    }
   ],
   "source": [
    "tupl = (\"apple\", \"banana\", \"orange\")\n",
    "print(tupl)\n",
    "print('Length of tuple       : ',len(tupl))\n",
    "print('Tuple slicing         : ',tupl[1])\n",
    "print('Count value of banana : ',tupl.count('banana'))\n",
    "print('Index of orange value : ',tupl.index('orange'))"
   ]
  },
  {
   "cell_type": "code",
   "execution_count": 152,
   "metadata": {},
   "outputs": [
    {
     "name": "stdout",
     "output_type": "stream",
     "text": [
      "<class 'tuple'>\n"
     ]
    }
   ],
   "source": [
    "thistuple = (\"apple\",) # thistuple = (\"apple\") the single value consider as str datatype not tuple\n",
    "print(type(thistuple))"
   ]
  },
  {
   "cell_type": "code",
   "execution_count": 153,
   "metadata": {},
   "outputs": [
    {
     "name": "stdout",
     "output_type": "stream",
     "text": [
      "('apple', 'kiwi', 'orange')\n"
     ]
    }
   ],
   "source": [
    "# Tuples are unchangeable, or immutable as it also is called.\n",
    "# So need to convert tuple into list and perform specific task\n",
    "y = list(tupl)\n",
    "y[1] = \"kiwi\"\n",
    "tupl = tuple(y)\n",
    "print(tupl)"
   ]
  },
  {
   "cell_type": "code",
   "execution_count": 159,
   "metadata": {},
   "outputs": [
    {
     "name": "stdout",
     "output_type": "stream",
     "text": [
      "apple\n",
      "banana\n",
      "orange\n"
     ]
    }
   ],
   "source": [
    "fruits = (\"apple\", \"banana\", \"orange\")\n",
    "(t1, t2, t3) = fruits\n",
    "\n",
    "print(t1)\n",
    "print(t2)\n",
    "print(t3)"
   ]
  },
  {
   "cell_type": "code",
   "execution_count": 160,
   "metadata": {},
   "outputs": [
    {
     "name": "stdout",
     "output_type": "stream",
     "text": [
      "apple\n",
      "banana\n",
      "orange\n",
      "('a', 'b', 'c', 1, 2, 3)\n"
     ]
    }
   ],
   "source": [
    "for x in fruits:\n",
    "    print(x)\n",
    "    \n",
    "tuple1 = (\"a\", \"b\" , \"c\")\n",
    "tuple2 = (1, 2, 3)\n",
    "\n",
    "tuple3 = tuple1 + tuple2\n",
    "print(tuple3)"
   ]
  },
  {
   "cell_type": "markdown",
   "metadata": {},
   "source": [
    "### **range (Range)**"
   ]
  },
  {
   "cell_type": "code",
   "execution_count": 168,
   "metadata": {},
   "outputs": [
    {
     "name": "stdout",
     "output_type": "stream",
     "text": [
      "<class 'type'>\n"
     ]
    }
   ],
   "source": [
    "print(type(range))"
   ]
  },
  {
   "cell_type": "code",
   "execution_count": 170,
   "metadata": {},
   "outputs": [
    {
     "name": "stdout",
     "output_type": "stream",
     "text": [
      "2\n",
      "4\n",
      "6\n",
      "8\n",
      "10\n",
      "12\n",
      "14\n",
      "16\n",
      "18\n",
      "20\n",
      "22\n"
     ]
    }
   ],
   "source": [
    "x = range(2, 24, 2)\n",
    "for n in x:\n",
    "    print(n)"
   ]
  }
 ],
 "metadata": {
  "kernelspec": {
   "display_name": "Python 3",
   "language": "python",
   "name": "python3"
  },
  "language_info": {
   "codemirror_mode": {
    "name": "ipython",
    "version": 3
   },
   "file_extension": ".py",
   "mimetype": "text/x-python",
   "name": "python",
   "nbconvert_exporter": "python",
   "pygments_lexer": "ipython3",
   "version": "3.8.5"
  }
 },
 "nbformat": 4,
 "nbformat_minor": 4
}
