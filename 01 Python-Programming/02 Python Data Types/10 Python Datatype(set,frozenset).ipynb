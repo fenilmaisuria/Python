{
 "cells": [
  {
   "cell_type": "markdown",
   "metadata": {},
   "source": [
    "# **Data Types**\n",
    "\n",
    "- **Set Types: set, frozenset**\n",
    "\n",
    "> Sets are used to store multiple items in a single variable.\n",
    "\n",
    "> Set used to store collections of data, List, Tuple, and Dictionary, all with different qualities and usage.\n",
    "\n",
    "> A set is a collection which is unordered, unindexed and Unchangeable.\n",
    "\n",
    "> Duplicates Not Allowed"
   ]
  },
  {
   "cell_type": "code",
   "execution_count": 1,
   "metadata": {},
   "outputs": [
    {
     "name": "stdout",
     "output_type": "stream",
     "text": [
      "{'orange', 'banana', 'apple'}\n"
     ]
    }
   ],
   "source": [
    "# Unorder\n",
    "set1 = {\"apple\", \"banana\", \"orange\"}\n",
    "print(set1)"
   ]
  },
  {
   "cell_type": "code",
   "execution_count": 2,
   "metadata": {},
   "outputs": [
    {
     "name": "stdout",
     "output_type": "stream",
     "text": [
      "<class 'set'>\n"
     ]
    }
   ],
   "source": [
    "# Type\n",
    "print(type(set1))"
   ]
  },
  {
   "cell_type": "code",
   "execution_count": 3,
   "metadata": {},
   "outputs": [
    {
     "name": "stdout",
     "output_type": "stream",
     "text": [
      "3\n"
     ]
    }
   ],
   "source": [
    "# Length\n",
    "print(len(set1))"
   ]
  },
  {
   "cell_type": "code",
   "execution_count": 4,
   "metadata": {},
   "outputs": [
    {
     "name": "stdout",
     "output_type": "stream",
     "text": [
      "{False, 1, 2, 3, 36.5, 'Maisuria', 'Fenil'}\n"
     ]
    }
   ],
   "source": [
    "# Supported Datatype\n",
    "set2 = {1,2,3,\"Fenil\",\"Maisuria\",False,36.5}\n",
    "print(set2)"
   ]
  },
  {
   "cell_type": "code",
   "execution_count": 5,
   "metadata": {},
   "outputs": [
    {
     "name": "stdout",
     "output_type": "stream",
     "text": [
      "False\n",
      "1\n",
      "2\n",
      "3\n",
      "36.5\n",
      "Maisuria\n",
      "Fenil\n"
     ]
    }
   ],
   "source": [
    "# Access value through loop\n",
    "for x in set2:\n",
    "  print(x)"
   ]
  },
  {
   "cell_type": "code",
   "execution_count": 6,
   "metadata": {},
   "outputs": [
    {
     "name": "stdout",
     "output_type": "stream",
     "text": [
      "{False, 1, 2, 3, 36.5, 'Maisuria', 'Fenil', 'Bardoli'}\n"
     ]
    }
   ],
   "source": [
    "# Add Item\n",
    "set2.add(\"Bardoli\")\n",
    "print(set2)"
   ]
  },
  {
   "cell_type": "code",
   "execution_count": 7,
   "metadata": {},
   "outputs": [
    {
     "name": "stdout",
     "output_type": "stream",
     "text": [
      "{False, 1, 2, 3, 36.5, 'apple', 'Maisuria', 'banana', 'orange', 'Fenil', 'Bardoli'}\n"
     ]
    }
   ],
   "source": [
    "# Add Set from another set\n",
    "set2.update(set1)\n",
    "print(set2)"
   ]
  },
  {
   "cell_type": "code",
   "execution_count": 8,
   "metadata": {},
   "outputs": [
    {
     "name": "stdout",
     "output_type": "stream",
     "text": [
      "{False, 1, 2, 3, 36.5, 'apple', 'banana', 'Maisuria', 'orange', 'Fenil', 'Bardoli'}\n"
     ]
    }
   ],
   "source": [
    "# union\n",
    "set3 = set1.union(set2)\n",
    "print(set3)"
   ]
  },
  {
   "cell_type": "code",
   "execution_count": 9,
   "metadata": {},
   "outputs": [
    {
     "name": "stdout",
     "output_type": "stream",
     "text": [
      "{False, 1, 2, 3, 36.5, 100, 'apple', 'Maisuria', 'banana', 110, 'orange', 120, 'Fenil', 'Bardoli'}\n"
     ]
    }
   ],
   "source": [
    "# Add list Value\n",
    "l = [100,110,120]\n",
    "\n",
    "set2.update(l)\n",
    "print(set2)"
   ]
  },
  {
   "cell_type": "code",
   "execution_count": 10,
   "metadata": {},
   "outputs": [
    {
     "name": "stdout",
     "output_type": "stream",
     "text": [
      "{'banana', 'apple'}\n",
      "{'banana', 'apple'}\n"
     ]
    }
   ],
   "source": [
    "# intersection_update()   Keep ONLY the Duplicates\n",
    "x = {\"apple\", \"banana\", \"Surat\",44,45}\n",
    "\n",
    "x.intersection_update(set2)\n",
    "print(x)\n",
    "\n",
    "z = x.intersection(set2)\n",
    "print(z)\n"
   ]
  },
  {
   "cell_type": "code",
   "execution_count": 11,
   "metadata": {},
   "outputs": [
    {
     "name": "stdout",
     "output_type": "stream",
     "text": [
      "{False, 1, 2, 3, 36.5, 100, 'Maisuria', 110, 'orange', 120, 'Fenil', 'Bardoli'}\n",
      "{'apple', 'banana'}\n"
     ]
    }
   ],
   "source": [
    "# Keep All, But NOT the Duplicates\n",
    "\n",
    "x.symmetric_difference_update(set2)\n",
    "print(x)\n",
    "\n",
    "z = x.symmetric_difference(set2)\n",
    "print(z)"
   ]
  },
  {
   "cell_type": "code",
   "execution_count": 12,
   "metadata": {},
   "outputs": [
    {
     "name": "stdout",
     "output_type": "stream",
     "text": [
      "{1, 2, 3, 36.5, 100, 'apple', 'Maisuria', 'banana', 110, 'orange', 120, 'Fenil', 'Bardoli'}\n",
      "{2, 3, 36.5, 100, 'apple', 'Maisuria', 'banana', 110, 'orange', 120, 'Fenil', 'Bardoli'}\n",
      "{3, 36.5, 100, 'apple', 'Maisuria', 'banana', 110, 'orange', 120, 'Fenil', 'Bardoli'}\n",
      "2\n"
     ]
    }
   ],
   "source": [
    "# remove item\n",
    "\n",
    "set2.remove(False)\n",
    "print(set2)\n",
    "\n",
    "set2.discard(1)   # If the item does not exist, discard() will NOT raise an error.\n",
    "print(set2)\n",
    "\n",
    "x = set2.pop()   # sets are unordered, so you will not know what item that gets removed.\n",
    "print(set2)\n",
    "print(x)"
   ]
  },
  {
   "cell_type": "code",
   "execution_count": 13,
   "metadata": {},
   "outputs": [
    {
     "name": "stdout",
     "output_type": "stream",
     "text": [
      "set()\n"
     ]
    }
   ],
   "source": [
    "# Clear set\n",
    "set1.clear()\n",
    "print(set1)"
   ]
  },
  {
   "cell_type": "code",
   "execution_count": 14,
   "metadata": {},
   "outputs": [],
   "source": [
    "# Delete set\n",
    "del set1\n",
    "\n",
    "# del keyword will delete the set completely"
   ]
  },
  {
   "cell_type": "markdown",
   "metadata": {},
   "source": [
    "### frozenset() Function"
   ]
  },
  {
   "cell_type": "code",
   "execution_count": 7,
   "metadata": {},
   "outputs": [
    {
     "name": "stdout",
     "output_type": "stream",
     "text": [
      "<class 'frozenset'>\n",
      "frozenset({'apple', 'cherry', 'banana'})\n"
     ]
    }
   ],
   "source": [
    "# Freeze the list, and make it unchangeable\n",
    "mylist = ['apple', 'banana', 'cherry']\n",
    "\n",
    "x = frozenset(mylist)\n",
    "print(type(x))\n",
    "print(x)\n"
   ]
  }
 ],
 "metadata": {
  "kernelspec": {
   "display_name": "Python 3",
   "language": "python",
   "name": "python3"
  },
  "language_info": {
   "codemirror_mode": {
    "name": "ipython",
    "version": 3
   },
   "file_extension": ".py",
   "mimetype": "text/x-python",
   "name": "python",
   "nbconvert_exporter": "python",
   "pygments_lexer": "ipython3",
   "version": "3.8.5"
  }
 },
 "nbformat": 4,
 "nbformat_minor": 4
}
