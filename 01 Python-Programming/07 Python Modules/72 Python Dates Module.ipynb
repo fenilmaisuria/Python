{
 "cells": [
  {
   "cell_type": "markdown",
   "metadata": {},
   "source": [
    "# Python Dates and Time"
   ]
  },
  {
   "cell_type": "code",
   "execution_count": 102,
   "metadata": {},
   "outputs": [],
   "source": [
    "# import Library\n",
    "import datetime"
   ]
  },
  {
   "cell_type": "code",
   "execution_count": 103,
   "metadata": {},
   "outputs": [
    {
     "name": "stdout",
     "output_type": "stream",
     "text": [
      "2020-12-18 12:24:38.058891\n"
     ]
    }
   ],
   "source": [
    "# current Date and Time\n",
    "x = datetime.datetime.now()\n",
    "print(x)\n",
    "\n",
    "# year, month, day, hour, minute, second, and microsecond."
   ]
  },
  {
   "cell_type": "code",
   "execution_count": 104,
   "metadata": {},
   "outputs": [
    {
     "name": "stdout",
     "output_type": "stream",
     "text": [
      "Year :  2020\n",
      "Month :  12\n",
      "Day :  18\n"
     ]
    }
   ],
   "source": [
    "print(\"Year : \",x.year)\n",
    "print(\"Month : \",x.month)\n",
    "print(\"Day : \",x.day)"
   ]
  },
  {
   "cell_type": "markdown",
   "metadata": {},
   "source": [
    "## Create a Date and Time"
   ]
  },
  {
   "cell_type": "code",
   "execution_count": 16,
   "metadata": {},
   "outputs": [
    {
     "name": "stdout",
     "output_type": "stream",
     "text": [
      "2020-05-17 00:00:00\n"
     ]
    }
   ],
   "source": [
    "# For Creating Date Objects\n",
    "x = datetime.datetime(2020, 5, 17) # time is optional parameter\n",
    "print(x)"
   ]
  },
  {
   "cell_type": "markdown",
   "metadata": {},
   "source": [
    "## strftime() Method"
   ]
  },
  {
   "cell_type": "code",
   "execution_count": 91,
   "metadata": {},
   "outputs": [
    {
     "name": "stdout",
     "output_type": "stream",
     "text": [
      "Friday\n"
     ]
    }
   ],
   "source": [
    "x = datetime.datetime.now()\n",
    "\n",
    "print(x.strftime(\"%A\")) "
   ]
  },
  {
   "cell_type": "code",
   "execution_count": 92,
   "metadata": {},
   "outputs": [
    {
     "name": "stdout",
     "output_type": "stream",
     "text": [
      "Fri Dec 18 12:23:09 2020\n",
      "12/18/20\n",
      "12:23:09\n"
     ]
    }
   ],
   "source": [
    "print(x.strftime(\"%c\")) # Local version of Date and Time\n",
    "print(x.strftime(\"%x\")) # Local version of Date\n",
    "print(x.strftime(\"%X\")) # local version of Time"
   ]
  },
  {
   "cell_type": "markdown",
   "metadata": {},
   "source": [
    "### For Day"
   ]
  },
  {
   "cell_type": "code",
   "execution_count": 93,
   "metadata": {},
   "outputs": [
    {
     "name": "stdout",
     "output_type": "stream",
     "text": [
      "18\n",
      "353\n"
     ]
    }
   ],
   "source": [
    "print(x.strftime(\"%d\")) # Date\n",
    "print(x.strftime(\"%j\")) # Day number in year"
   ]
  },
  {
   "cell_type": "markdown",
   "metadata": {},
   "source": [
    "### For Week"
   ]
  },
  {
   "cell_type": "code",
   "execution_count": 94,
   "metadata": {},
   "outputs": [
    {
     "name": "stdout",
     "output_type": "stream",
     "text": [
      "Friday\n",
      "Fri\n",
      "5\n",
      "50\n",
      "50\n"
     ]
    }
   ],
   "source": [
    "print(x.strftime(\"%A\")) # Week day name\n",
    "print(x.strftime(\"%a\")) # Short week day name\n",
    "print(x.strftime(\"%w\")) # Week day in number\n",
    "print(x.strftime(\"%U\")) # Week number in year\n",
    "print(x.strftime(\"%W\")) # Week number in year"
   ]
  },
  {
   "cell_type": "markdown",
   "metadata": {},
   "source": [
    "### For Months"
   ]
  },
  {
   "cell_type": "code",
   "execution_count": 95,
   "metadata": {},
   "outputs": [
    {
     "name": "stdout",
     "output_type": "stream",
     "text": [
      "Dec\n",
      "December\n",
      "12\n"
     ]
    }
   ],
   "source": [
    "print(x.strftime(\"%b\")) # Month short word \n",
    "print(x.strftime(\"%B\")) # Month in words\n",
    "print(x.strftime(\"%m\")) # Month in number"
   ]
  },
  {
   "cell_type": "markdown",
   "metadata": {},
   "source": [
    "### For Year"
   ]
  },
  {
   "cell_type": "code",
   "execution_count": 96,
   "metadata": {},
   "outputs": [
    {
     "name": "stdout",
     "output_type": "stream",
     "text": [
      "20\n",
      "2020\n"
     ]
    }
   ],
   "source": [
    "print(x.strftime(\"%y\")) # Short Year\n",
    "print(x.strftime(\"%Y\")) # Year"
   ]
  },
  {
   "cell_type": "markdown",
   "metadata": {},
   "source": [
    "### For Hours"
   ]
  },
  {
   "cell_type": "code",
   "execution_count": 97,
   "metadata": {},
   "outputs": [
    {
     "name": "stdout",
     "output_type": "stream",
     "text": [
      "12\n",
      "12\n",
      "PM\n"
     ]
    }
   ],
   "source": [
    "print(x.strftime(\"%H\")) # 24\n",
    "print(x.strftime(\"%I\")) # 12\n",
    "print(x.strftime(\"%p\")) # AM / PM"
   ]
  },
  {
   "cell_type": "markdown",
   "metadata": {},
   "source": [
    "### For Minute"
   ]
  },
  {
   "cell_type": "code",
   "execution_count": 98,
   "metadata": {},
   "outputs": [
    {
     "name": "stdout",
     "output_type": "stream",
     "text": [
      "23\n"
     ]
    }
   ],
   "source": [
    "print(x.strftime(\"%M\")) #Minute"
   ]
  },
  {
   "cell_type": "markdown",
   "metadata": {},
   "source": [
    "### For Second"
   ]
  },
  {
   "cell_type": "code",
   "execution_count": 99,
   "metadata": {},
   "outputs": [
    {
     "name": "stdout",
     "output_type": "stream",
     "text": [
      "09\n",
      "436964\n"
     ]
    }
   ],
   "source": [
    "print(x.strftime(\"%S\")) # Second\n",
    "print(x.strftime(\"%f\")) # Microsecond"
   ]
  },
  {
   "cell_type": "code",
   "execution_count": 101,
   "metadata": {},
   "outputs": [
    {
     "name": "stdout",
     "output_type": "stream",
     "text": [
      "\n",
      "\n"
     ]
    }
   ],
   "source": [
    "print(x.strftime(\"%z\")) # UTC offset\n",
    "print(x.strftime(\"%Z\")) # Timezone"
   ]
  }
 ],
 "metadata": {
  "kernelspec": {
   "display_name": "Python 3",
   "language": "python",
   "name": "python3"
  },
  "language_info": {
   "codemirror_mode": {
    "name": "ipython",
    "version": 3
   },
   "file_extension": ".py",
   "mimetype": "text/x-python",
   "name": "python",
   "nbconvert_exporter": "python",
   "pygments_lexer": "ipython3",
   "version": "3.8.5"
  }
 },
 "nbformat": 4,
 "nbformat_minor": 4
}
