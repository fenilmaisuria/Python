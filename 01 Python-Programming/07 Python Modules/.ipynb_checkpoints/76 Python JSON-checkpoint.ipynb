{
 "cells": [
  {
   "cell_type": "markdown",
   "metadata": {},
   "source": [
    "# JSON in Python\n",
    "\n",
    "- JSON is a syntax for storing and exchanging data.\n",
    "\n",
    "- JSON is text, written with JavaScript object notation."
   ]
  },
  {
   "cell_type": "code",
   "execution_count": 5,
   "metadata": {},
   "outputs": [],
   "source": [
    "# Import Module\n",
    "import json"
   ]
  },
  {
   "cell_type": "markdown",
   "metadata": {},
   "source": [
    "## Parse JSON - Convert from JSON to Python"
   ]
  },
  {
   "cell_type": "code",
   "execution_count": 33,
   "metadata": {},
   "outputs": [
    {
     "name": "stdout",
     "output_type": "stream",
     "text": [
      "<class 'str'>\n",
      "<class 'dict'>\n",
      "26\n"
     ]
    }
   ],
   "source": [
    "# some JSON:\n",
    "x =  '{ \"name\":\"Fenil\", \"age\":26, \"city\":\"Surat\"}'\n",
    "print(type(x))\n",
    "\n",
    "# parse x:\n",
    "y = json.loads(x)\n",
    "print(type(y))\n",
    "\n",
    "# the result is a Python dictionary:\n",
    "print(y[\"age\"])"
   ]
  },
  {
   "cell_type": "markdown",
   "metadata": {},
   "source": [
    "## Convert from Python to JSON"
   ]
  },
  {
   "cell_type": "code",
   "execution_count": 34,
   "metadata": {},
   "outputs": [
    {
     "name": "stdout",
     "output_type": "stream",
     "text": [
      "{'name': 'John', 'age': 30, 'city': 'New York'}\n",
      "<class 'dict'>\n",
      "{\"name\": \"John\", \"age\": 30, \"city\": \"New York\"}\n",
      "<class 'str'>\n"
     ]
    }
   ],
   "source": [
    "# a Python object (dict):\n",
    "x = {\n",
    "  \"name\": \"Fenil\",\n",
    "  \"age\": 26,\n",
    "  \"city\": \"Surat\"\n",
    "}\n",
    "print(x)\n",
    "print(type(x))\n",
    "\n",
    "# convert into JSON:\n",
    "y = json.dumps(x)\n",
    "\n",
    "# the result is a JSON string:\n",
    "print(y)\n",
    "print(type(y))"
   ]
  },
  {
   "cell_type": "code",
   "execution_count": 16,
   "metadata": {},
   "outputs": [
    {
     "name": "stdout",
     "output_type": "stream",
     "text": [
      "{\"name\": \"John\", \"age\": 30}\n",
      "[\"apple\", \"bananas\"]\n",
      "[\"apple\", \"bananas\"]\n",
      "\"hello\"\n",
      "42\n",
      "31.76\n",
      "true\n",
      "false\n",
      "null\n"
     ]
    }
   ],
   "source": [
    "# Convert Python objects into JSON strings\n",
    "\n",
    "print(json.dumps({\"name\": \"Fenil\", \"age\": 26}))\n",
    "print(json.dumps([\"apple\", \"orange\"]))\n",
    "print(json.dumps((\"apple\", \"orange\")))\n",
    "print(json.dumps(\"Hello\"))\n",
    "print(json.dumps(42))\n",
    "print(json.dumps(31.76))\n",
    "print(json.dumps(True))\n",
    "print(json.dumps(False))\n",
    "print(json.dumps(None))"
   ]
  },
  {
   "cell_type": "raw",
   "metadata": {},
   "source": [
    "Convert from Python to JSON\n",
    "\n",
    "Python   |   JSON\n",
    "--------------------\n",
    "dict     |  Object\n",
    "list     |  Array\n",
    "tuple    |  Array\n",
    "str      |  String\n",
    "int      |  Number\n",
    "float    |  Number\n",
    "True     |  true\n",
    "False    |  false\n",
    "None     |  null"
   ]
  },
  {
   "cell_type": "code",
   "execution_count": 40,
   "metadata": {},
   "outputs": [
    {
     "name": "stdout",
     "output_type": "stream",
     "text": [
      "{\"name\": \"Fenil\", \"age\": 26, \"Male\": true, \"married\": false, \"Hobbies\": [\"Badminton\", \"Coding\", \"Chess\"], \"pets\": null, \"Product\": [{\"name\": \"Mobile\", \"price\": 20000.0}, {\"name\": \"Cover\", \"price\": 100.5}]}\n"
     ]
    }
   ],
   "source": [
    "# Convert a Python object containing all the legal data types:\n",
    "x = {\n",
    "  \"name\": \"Fenil\",\n",
    "  \"age\": 26,\n",
    "  \"Male\": True,\n",
    "  \"married\": False,\n",
    "  \"Hobbies\": (\"Badminton\",\"Coding\",\"Chess\"),\n",
    "  \"pets\": None,\n",
    "  \"Product\": [\n",
    "    {\"name\": \"Mobile\", \"price\": 20000.00},\n",
    "    {\"name\": \"Cover\", \"price\": 100.50}\n",
    "  ]\n",
    "}\n",
    "\n",
    "print(json.dumps(x))"
   ]
  },
  {
   "cell_type": "markdown",
   "metadata": {},
   "source": [
    "## Format the Result"
   ]
  },
  {
   "cell_type": "code",
   "execution_count": 41,
   "metadata": {},
   "outputs": [
    {
     "data": {
      "text/plain": [
       "'{\\n     \"name\": \"Fenil\",\\n     \"age\": 26,\\n     \"Male\": true,\\n     \"married\": false,\\n     \"Hobbies\": [\\n          \"Badminton\",\\n          \"Coding\",\\n          \"Chess\"\\n     ],\\n     \"pets\": null,\\n     \"Product\": [\\n          {\\n               \"name\": \"Mobile\",\\n               \"price\": 20000.0\\n          },\\n          {\\n               \"name\": \"Cover\",\\n               \"price\": 100.5\\n          }\\n     ]\\n}'"
      ]
     },
     "execution_count": 41,
     "metadata": {},
     "output_type": "execute_result"
    }
   ],
   "source": [
    "# Numbers of indents\n",
    "json.dumps(x, indent=5)"
   ]
  },
  {
   "cell_type": "code",
   "execution_count": 42,
   "metadata": {},
   "outputs": [
    {
     "data": {
      "text/plain": [
       "'{\\n  \"name\" = \"Fenil\". \\n  \"age\" = 26. \\n  \"Male\" = true. \\n  \"married\" = false. \\n  \"Hobbies\" = [\\n    \"Badminton\". \\n    \"Coding\". \\n    \"Chess\"\\n  ]. \\n  \"pets\" = null. \\n  \"Product\" = [\\n    {\\n      \"name\" = \"Mobile\". \\n      \"price\" = 20000.0\\n    }. \\n    {\\n      \"name\" = \"Cover\". \\n      \"price\" = 100.5\\n    }\\n  ]\\n}'"
      ]
     },
     "execution_count": 42,
     "metadata": {},
     "output_type": "execute_result"
    }
   ],
   "source": [
    "# separators\n",
    "json.dumps(x, indent=2, separators=(\". \", \" = \"))"
   ]
  },
  {
   "cell_type": "markdown",
   "metadata": {},
   "source": [
    "## Order the Result"
   ]
  },
  {
   "cell_type": "code",
   "execution_count": 43,
   "metadata": {},
   "outputs": [
    {
     "data": {
      "text/plain": [
       "'{\\n  \"Hobbies\": [\\n    \"Badminton\",\\n    \"Coding\",\\n    \"Chess\"\\n  ],\\n  \"Male\": true,\\n  \"Product\": [\\n    {\\n      \"name\": \"Mobile\",\\n      \"price\": 20000.0\\n    },\\n    {\\n      \"name\": \"Cover\",\\n      \"price\": 100.5\\n    }\\n  ],\\n  \"age\": 26,\\n  \"married\": false,\\n  \"name\": \"Fenil\",\\n  \"pets\": null\\n}'"
      ]
     },
     "execution_count": 43,
     "metadata": {},
     "output_type": "execute_result"
    }
   ],
   "source": [
    "# Result should be sorted or not\n",
    "json.dumps(x, indent=2, sort_keys=True)"
   ]
  }
 ],
 "metadata": {
  "kernelspec": {
   "display_name": "Python 3",
   "language": "python",
   "name": "python3"
  },
  "language_info": {
   "codemirror_mode": {
    "name": "ipython",
    "version": 3
   },
   "file_extension": ".py",
   "mimetype": "text/x-python",
   "name": "python",
   "nbconvert_exporter": "python",
   "pygments_lexer": "ipython3",
   "version": "3.8.5"
  }
 },
 "nbformat": 4,
 "nbformat_minor": 4
}
