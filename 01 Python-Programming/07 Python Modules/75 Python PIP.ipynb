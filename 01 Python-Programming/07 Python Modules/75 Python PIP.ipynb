{
 "cells": [
  {
   "cell_type": "markdown",
   "metadata": {},
   "source": [
    "# Python PIP\n",
    "\n",
    "> PIP is a package manager for Python packages, or modules if you like."
   ]
  },
  {
   "cell_type": "markdown",
   "metadata": {},
   "source": [
    "### Python Package\n",
    "\n",
    "> A package contains all the files you need for a module.\n",
    "\n",
    "> Modules are Python code libraries you can include in your project."
   ]
  },
  {
   "cell_type": "markdown",
   "metadata": {},
   "source": [
    "## Check if PIP is Installed"
   ]
  },
  {
   "cell_type": "code",
   "execution_count": 22,
   "metadata": {},
   "outputs": [
    {
     "name": "stdout",
     "output_type": "stream",
     "text": [
      "pip 20.0.2 from /usr/lib/python3/dist-packages/pip (python 3.8)\n"
     ]
    }
   ],
   "source": [
    "!pip3 --version    \n",
    "\n",
    "# For terminal\n",
    "# pip --version"
   ]
  },
  {
   "cell_type": "markdown",
   "metadata": {},
   "source": [
    "## Download a Package"
   ]
  },
  {
   "cell_type": "code",
   "execution_count": 27,
   "metadata": {},
   "outputs": [
    {
     "name": "stdout",
     "output_type": "stream",
     "text": [
      "Requirement already satisfied: camelcase in /home/fenil/.local/lib/python3.8/site-packages (0.2)\n"
     ]
    }
   ],
   "source": [
    "!pip3 install camelcase   \n",
    "# pip install camelcase  (For terminal)"
   ]
  },
  {
   "cell_type": "markdown",
   "metadata": {},
   "source": [
    "## Using a Package"
   ]
  },
  {
   "cell_type": "code",
   "execution_count": 23,
   "metadata": {},
   "outputs": [
    {
     "name": "stdout",
     "output_type": "stream",
     "text": [
      "Hello, Universe!\n"
     ]
    }
   ],
   "source": [
    "import camelcase\n",
    "\n",
    "cc = camelcase.CamelCase()\n",
    "\n",
    "text = \"hello, universe!\"\n",
    "\n",
    "print(cc.hump(text))"
   ]
  },
  {
   "cell_type": "markdown",
   "metadata": {},
   "source": [
    "## Find Packages\n",
    "https://pypi.org/"
   ]
  },
  {
   "cell_type": "markdown",
   "metadata": {},
   "source": [
    "## Remove a Package"
   ]
  },
  {
   "cell_type": "code",
   "execution_count": 28,
   "metadata": {},
   "outputs": [
    {
     "name": "stdout",
     "output_type": "stream",
     "text": [
      "\u001b[33mWARNING: Skipping camelcasey as it is not installed.\u001b[0m\n"
     ]
    }
   ],
   "source": [
    "!pip3 uninstall camelcasey\n",
    "# pip uninstall camelcase   (For Terminal)"
   ]
  },
  {
   "cell_type": "markdown",
   "metadata": {},
   "source": [
    "##  List Packages"
   ]
  },
  {
   "cell_type": "code",
   "execution_count": 29,
   "metadata": {},
   "outputs": [
    {
     "name": "stdout",
     "output_type": "stream",
     "text": [
      "Package                Version             \n",
      "---------------------- --------------------\n",
      "aiohttp                3.7.3               \n",
      "apturl                 0.5.2               \n",
      "argon2-cffi            20.1.0              \n",
      "astroid                2.4.2               \n",
      "async-generator        1.10                \n",
      "async-timeout          3.0.1               \n",
      "attrs                  20.3.0              \n",
      "backcall               0.2.0               \n",
      "bcrypt                 3.1.7               \n",
      "bleach                 3.2.1               \n",
      "blinker                1.4                 \n",
      "bokeh                  2.2.3               \n",
      "Brlapi                 0.7.0               \n",
      "camelcase              0.2                 \n",
      "certifi                2019.11.28          \n",
      "cffi                   1.14.3              \n",
      "chardet                3.0.4               \n",
      "Click                  7.0                 \n",
      "colorama               0.4.3               \n",
      "command-not-found      0.3                 \n",
      "cryptography           2.8                 \n",
      "cupshelpers            1.0                 \n",
      "dbus-python            1.2.16              \n",
      "decorator              4.4.2               \n",
      "defer                  1.0.6               \n",
      "defusedxml             0.6.0               \n",
      "distro                 1.4.0               \n",
      "distro-info            0.23ubuntu1         \n",
      "duplicity              0.8.12.0            \n",
      "entrypoints            0.3                 \n",
      "fasteners              0.14.1              \n",
      "future                 0.18.2              \n",
      "httplib2               0.14.0              \n",
      "idna                   2.8                 \n",
      "import-ipynb           0.1.3               \n",
      "ipykernel              5.3.4               \n",
      "ipython                7.19.0              \n",
      "ipython-genutils       0.2.0               \n",
      "ipywidgets             7.5.1               \n",
      "isort                  5.6.4               \n",
      "jedi                   0.17.2              \n",
      "Jinja2                 2.11.2              \n",
      "json5                  0.9.5               \n",
      "jsonschema             3.2.0               \n",
      "jupyter                1.0.0               \n",
      "jupyter-client         6.1.7               \n",
      "jupyter-console        6.2.0               \n",
      "jupyter-core           4.7.0               \n",
      "jupyter-kite           1.2.0               \n",
      "jupyter-server-proxy   1.5.0               \n",
      "jupyterlab             2.2.9               \n",
      "jupyterlab-nvdashboard 0.4.0               \n",
      "jupyterlab-pygments    0.1.2               \n",
      "jupyterlab-server      1.2.0               \n",
      "keyring                18.0.1              \n",
      "language-selector      0.1                 \n",
      "launchpadlib           1.10.13             \n",
      "lazr.restfulclient     0.14.2              \n",
      "lazr.uri               1.0.3               \n",
      "lazy-object-proxy      1.4.3               \n",
      "lockfile               0.12.2              \n",
      "louis                  3.12.0              \n",
      "macaroonbakery         1.3.1               \n",
      "Mako                   1.1.0               \n",
      "MarkupSafe             1.1.0               \n",
      "mccabe                 0.6.1               \n",
      "mistune                0.8.4               \n",
      "monotonic              1.5                 \n",
      "multidict              5.0.2               \n",
      "nbclient               0.5.1               \n",
      "nbconvert              6.0.7               \n",
      "nbformat               5.0.8               \n",
      "nbresuse               0.4.0               \n",
      "nest-asyncio           1.4.3               \n",
      "netifaces              0.10.4              \n",
      "notebook               6.1.5               \n",
      "numpy                  1.19.4              \n",
      "oauthlib               3.1.0               \n",
      "olefile                0.46                \n",
      "packaging              20.4                \n",
      "pandocfilters          1.4.3               \n",
      "paramiko               2.6.0               \n",
      "parso                  0.7.1               \n",
      "pexpect                4.6.0               \n",
      "pickleshare            0.7.5               \n",
      "Pillow                 8.0.1               \n",
      "pip                    20.0.2              \n",
      "prometheus-client      0.9.0               \n",
      "prompt-toolkit         3.0.8               \n",
      "protobuf               3.6.1               \n",
      "psutil                 5.7.3               \n",
      "ptyprocess             0.6.0               \n",
      "pycairo                1.16.2              \n",
      "pycparser              2.20                \n",
      "pycups                 1.9.73              \n",
      "Pygments               2.7.2               \n",
      "PyGObject              3.36.0              \n",
      "PyJWT                  1.7.1               \n",
      "pylint                 2.6.0               \n",
      "pymacaroons            0.13.0              \n",
      "PyNaCl                 1.3.0               \n",
      "pynvml                 8.0.4               \n",
      "pyparsing              2.4.7               \n",
      "pyRFC3339              1.1                 \n",
      "pyrsistent             0.17.3              \n",
      "python-apt             2.0.0+ubuntu0.20.4.2\n",
      "python-dateutil        2.7.3               \n",
      "python-debian          0.1.36ubuntu1       \n",
      "pytz                   2019.3              \n",
      "pyxdg                  0.26                \n",
      "PyYAML                 5.3.1               \n",
      "pyzmq                  20.0.0              \n",
      "qtconsole              5.0.0               \n",
      "QtPy                   1.9.0               \n",
      "reportlab              3.5.34              \n",
      "requests               2.22.0              \n",
      "requests-unixsocket    0.2.0               \n",
      "SecretStorage          2.3.1               \n",
      "Send2Trash             1.5.0               \n",
      "setuptools             45.2.0              \n",
      "simpervisor            0.3                 \n",
      "simplejson             3.16.0              \n",
      "six                    1.14.0              \n",
      "systemd-python         234                 \n",
      "terminado              0.9.1               \n",
      "testpath               0.4.4               \n",
      "toml                   0.10.2              \n",
      "tornado                6.1                 \n",
      "traitlets              5.0.5               \n",
      "typing-extensions      3.7.4.3             \n",
      "ubuntu-advantage-tools 20.3                \n",
      "ubuntu-drivers-common  0.0.0               \n",
      "ufw                    0.36                \n",
      "unattended-upgrades    0.1                 \n",
      "urllib3                1.25.8              \n",
      "usb-creator            0.3.7               \n",
      "wadllib                1.3.3               \n",
      "wcwidth                0.2.5               \n",
      "webencodings           0.5.1               \n",
      "wheel                  0.34.2              \n",
      "widgetsnbextension     3.5.1               \n",
      "wrapt                  1.12.1              \n",
      "xkit                   0.0.0               \n",
      "yarl                   1.6.3               \n"
     ]
    }
   ],
   "source": [
    "!pip3 list"
   ]
  }
 ],
 "metadata": {
  "kernelspec": {
   "display_name": "Python 3",
   "language": "python",
   "name": "python3"
  },
  "language_info": {
   "codemirror_mode": {
    "name": "ipython",
    "version": 3
   },
   "file_extension": ".py",
   "mimetype": "text/x-python",
   "name": "python",
   "nbconvert_exporter": "python",
   "pygments_lexer": "ipython3",
   "version": "3.8.5"
  }
 },
 "nbformat": 4,
 "nbformat_minor": 4
}
