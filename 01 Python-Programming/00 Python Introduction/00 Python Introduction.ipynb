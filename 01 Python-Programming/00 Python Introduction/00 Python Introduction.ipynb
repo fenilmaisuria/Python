{
 "cells": [
  {
   "cell_type": "markdown",
   "metadata": {},
   "source": [
    "# **`Introduction Of Python Programming Language `**\n",
    "---"
   ]
  },
  {
   "cell_type": "markdown",
   "metadata": {},
   "source": [
    "![title](../src/GuidoVanRossum.jpg)"
   ]
  },
  {
   "cell_type": "markdown",
   "metadata": {},
   "source": [
    "## `Guido van Rossum` \n",
    "> A **Dutch Programmer** best known as the **Creator** of the **Python Programming Language**\n",
    "\n",
    "> Python is **named** after a TV Show called **Monty Python's Flying Circus**  \n",
    "\n",
    "> Python **Source Code** is available under the **GNU General Public License (GPL)**. "
   ]
  },
  {
   "cell_type": "markdown",
   "metadata": {},
   "source": [
    "### Python was **Created** in the late **1980s** by **Guido van Rossum** as a successor to the ABC programming language.\n",
    "- Python **first** released in **1991**\n",
    "- Python **1.0** released in **Jan 1994**\n",
    "- Python **2.0** released in **2000**\n",
    "- Python **3.0** released in **2008**\n",
    "- Python **3.9.0** released on **5 October 2020**"
   ]
  },
  {
   "cell_type": "markdown",
   "metadata": {},
   "source": [
    "### **Python is a General-purpose, Interpreted, Interactive, Object-oriented, and High-level programming language**\n",
    "- **General-purpose**  - Python for developing desktop GUI applications, websites and web applications.\n",
    "- **Interpreted**      - Processed at runtime by the interpreter.\n",
    "- **Interactive**      - Python prompt and interact with the interpreter directly\n",
    "- **Object-oriented**  - Technique of programming that encapsulates code within objects.\n",
    "- **High-level**       - Strong abstraction from the details of the computer. "
   ]
  },
  {
   "cell_type": "markdown",
   "metadata": {},
   "source": [
    "### **Applications of Python**\n",
    " - **Easy-to-learn** - Few keywords, simple structure, and a clearly defined syntax\n",
    " - **Easy-to-read** - More clearly defined and visible to the eyes\n",
    " - **Easy-to-maintain** - Source code is fairly easy-to-maintain\n",
    " - **A broad standard library** - Bulk of the library is very portable and cross-platform compatible\n",
    " - **Interactive Mode** - Interactive testing and debugging of snippets of code\n",
    " - **Portable**   - Run on a wide variety of hardware platforms and has the same interface on all platforms\n",
    " - **Extendable**  - Add low-level modules to the Python interpreter\n",
    " - **Databases**   - Interfaces to all major commercial databases\n",
    " - **GUI Programming**   - Python supports GUI applications that can be created and ported to many system calls, libraries and windows systems\n",
    " - **Scalable**   - Better structure and support for large programs than shell scripting."
   ]
  },
  {
   "cell_type": "markdown",
   "metadata": {},
   "source": [
    "### **Characteristics of Python**\n",
    "- Functional and **Structured Programming** methods as well as **OOP**.\n",
    "- Used as a **Scripting Language** or can be compiled to byte-code for building large applications.\n",
    "- Very high-level **Dynamic Datatypes** and supports dynamic type checking.\n",
    "- Supports **Automatic Garbage Collection**.\n",
    "- Easily **Integrated** with C, C++, COM, ActiveX, CORBA, and Java."
   ]
  }
 ],
 "metadata": {
  "kernelspec": {
   "display_name": "Python 3",
   "language": "python",
   "name": "python3"
  },
  "language_info": {
   "codemirror_mode": {
    "name": "ipython",
    "version": 3
   },
   "file_extension": ".py",
   "mimetype": "text/x-python",
   "name": "python",
   "nbconvert_exporter": "python",
   "pygments_lexer": "ipython3",
   "version": "3.8.5"
  }
 },
 "nbformat": 4,
 "nbformat_minor": 4
}
