{
 "cells": [
  {
   "cell_type": "code",
   "execution_count": 8,
   "metadata": {},
   "outputs": [],
   "source": [
    "board = {1:1,2:2,3:3,4:4,5:5,6:6,7:7,8:8,9:9}"
   ]
  },
  {
   "cell_type": "code",
   "execution_count": 9,
   "metadata": {},
   "outputs": [],
   "source": [
    "def boardDesign(b):\n",
    "    print(b[1],'|',b[2],'|',b[3])\n",
    "    print(\"--+---+--\")\n",
    "    print(b[4],'|',b[5],'|',b[6])\n",
    "    print(\"--+---+--\")\n",
    "    print(b[7],'|',b[8],'|',b[9],'\\n')"
   ]
  },
  {
   "cell_type": "code",
   "execution_count": 10,
   "metadata": {},
   "outputs": [],
   "source": [
    "def checkMatch(sign):\n",
    "    if board[1] == sign and board[2] == sign and board[3] == sign:\n",
    "        print(\"user {} is winner\".format(sign))\n",
    "        return True\n",
    "    elif board[4] == sign and board[5] == sign and board[6] == sign:\n",
    "        print(\"user {} is winner\".format(sign))\n",
    "        return True\n",
    "    elif board[7] == sign and board[8] == sign and board[9] == sign:\n",
    "        print(\"user {} is winner\".format(sign))\n",
    "        return True\n",
    "    elif board[1] == sign and board[4] == sign and board[7] == sign:\n",
    "        print(\"user {} is winner\".format(sign))\n",
    "        return True\n",
    "    elif board[2] == sign and board[5] == sign and board[8] == sign:\n",
    "        print(\"user {} is winner\".format(sign))\n",
    "        return True\n",
    "    elif board[3] == sign and board[6] == sign and board[9] == sign:\n",
    "        print(\"user {} is winner\".format(sign))\n",
    "        return True\n",
    "    elif board[1] == sign and board[5] == sign and board[9] == sign:\n",
    "        print(\"user {} is winner\".format(sign))\n",
    "        return True\n",
    "    elif board[3] == sign and board[5] == sign and board[7] == sign:\n",
    "        print(\"user {} is winner\".format(sign))\n",
    "        return True\n",
    "\n",
    "    "
   ]
  },
  {
   "cell_type": "code",
   "execution_count": 11,
   "metadata": {},
   "outputs": [],
   "source": [
    "def moveCheck(sign):\n",
    "    move =int(input(\"Turn : \"+sign+\" \"))\n",
    "    if(move == board[move]):\n",
    "        board[move] = sign\n",
    "        boardDesign(board)\n",
    "    else:\n",
    "        print(\"Already taken \\nPlaese select shown number\")\n",
    "        movecheck(sign)\n",
    "        "
   ]
  },
  {
   "cell_type": "code",
   "execution_count": 12,
   "metadata": {},
   "outputs": [],
   "source": [
    "def userMove(user1,user2):\n",
    "    user1 = user1\n",
    "    user2 = user2\n",
    "    if(user1 != None and user2 != None):\n",
    "        for i in board:\n",
    "            if (i % 2) == 0:         \n",
    "                usersign = user2\n",
    "                moveCheck(usersign)\n",
    "                if i >= 5:\n",
    "                    x = checkMatch(usersign)\n",
    "                    if x == True:\n",
    "                        break\n",
    "            else:\n",
    "                if i == 1:\n",
    "                    boardDesign(board)\n",
    "                    print(\"Enter number according to board \\n\")\n",
    "\n",
    "                usersign = user1\n",
    "                moveCheck(usersign)\n",
    "                if i >= 5:\n",
    "                    x = checkMatch(usersign)\n",
    "                    if x == True:\n",
    "                        break\n",
    "                    if i == 9:\n",
    "                        if x!=True:\n",
    "                            print(\"Game Tie\")"
   ]
  },
  {
   "cell_type": "code",
   "execution_count": 13,
   "metadata": {},
   "outputs": [],
   "source": [
    "def userSign():    \n",
    "    usersymbol = str(input(\"Player 1 please select your symbol(O or X) : \"))\n",
    "    if usersymbol == 'o' or usersymbol == 'O':\n",
    "        user1 = 'O'\n",
    "        user2 = 'X'\n",
    "        print(\"Player 1 Symbol is : {} \\nPlayer 2 Symbol is : {}\".format(user1,user2))\n",
    "        userMove(user1,user2)\n",
    "    elif usersymbol == 'x' or usersymbol == 'X':\n",
    "        print(usersymbol)\n",
    "        user1 = 'X'\n",
    "        user2 = 'O'\n",
    "        print(\"Player 1 Symbol is : {} \\nPlayer 2 Symbol is : {}\".format(user1,user2))\n",
    "        userMove(user1,user2)\n",
    "    else :\n",
    "        print(\"Enter valid input\")\n",
    "        userSign()"
   ]
  },
  {
   "cell_type": "code",
   "execution_count": 14,
   "metadata": {},
   "outputs": [
    {
     "ename": "KeyboardInterrupt",
     "evalue": "Interrupted by user",
     "output_type": "error",
     "traceback": [
      "\u001b[0;31m---------------------------------------------------------------------------\u001b[0m",
      "\u001b[0;31mKeyboardInterrupt\u001b[0m                         Traceback (most recent call last)",
      "\u001b[0;32m<ipython-input-14-e53e11a91019>\u001b[0m in \u001b[0;36m<module>\u001b[0;34m\u001b[0m\n\u001b[1;32m      2\u001b[0m \u001b[0muser2\u001b[0m \u001b[0;34m=\u001b[0m \u001b[0;32mNone\u001b[0m\u001b[0;34m\u001b[0m\u001b[0;34m\u001b[0m\u001b[0m\n\u001b[1;32m      3\u001b[0m \u001b[0;34m\u001b[0m\u001b[0m\n\u001b[0;32m----> 4\u001b[0;31m \u001b[0muserSign\u001b[0m\u001b[0;34m(\u001b[0m\u001b[0;34m)\u001b[0m\u001b[0;34m\u001b[0m\u001b[0;34m\u001b[0m\u001b[0m\n\u001b[0m",
      "\u001b[0;32m<ipython-input-13-a7a5b3b2f7ee>\u001b[0m in \u001b[0;36muserSign\u001b[0;34m()\u001b[0m\n\u001b[1;32m      1\u001b[0m \u001b[0;32mdef\u001b[0m \u001b[0muserSign\u001b[0m\u001b[0;34m(\u001b[0m\u001b[0;34m)\u001b[0m\u001b[0;34m:\u001b[0m\u001b[0;34m\u001b[0m\u001b[0;34m\u001b[0m\u001b[0m\n\u001b[0;32m----> 2\u001b[0;31m     \u001b[0musersymbol\u001b[0m \u001b[0;34m=\u001b[0m \u001b[0mstr\u001b[0m\u001b[0;34m(\u001b[0m\u001b[0minput\u001b[0m\u001b[0;34m(\u001b[0m\u001b[0;34m\"Player 1 please select your symbol(O or X) : \"\u001b[0m\u001b[0;34m)\u001b[0m\u001b[0;34m)\u001b[0m\u001b[0;34m\u001b[0m\u001b[0;34m\u001b[0m\u001b[0m\n\u001b[0m\u001b[1;32m      3\u001b[0m     \u001b[0;32mif\u001b[0m \u001b[0musersymbol\u001b[0m \u001b[0;34m==\u001b[0m \u001b[0;34m'o'\u001b[0m \u001b[0;32mor\u001b[0m \u001b[0musersymbol\u001b[0m \u001b[0;34m==\u001b[0m \u001b[0;34m'O'\u001b[0m\u001b[0;34m:\u001b[0m\u001b[0;34m\u001b[0m\u001b[0;34m\u001b[0m\u001b[0m\n\u001b[1;32m      4\u001b[0m         \u001b[0muser1\u001b[0m \u001b[0;34m=\u001b[0m \u001b[0;34m'O'\u001b[0m\u001b[0;34m\u001b[0m\u001b[0;34m\u001b[0m\u001b[0m\n\u001b[1;32m      5\u001b[0m         \u001b[0muser2\u001b[0m \u001b[0;34m=\u001b[0m \u001b[0;34m'X'\u001b[0m\u001b[0;34m\u001b[0m\u001b[0;34m\u001b[0m\u001b[0m\n",
      "\u001b[0;32m~/.local/lib/python3.8/site-packages/ipykernel/kernelbase.py\u001b[0m in \u001b[0;36mraw_input\u001b[0;34m(self, prompt)\u001b[0m\n\u001b[1;32m    858\u001b[0m                 \u001b[0;34m\"raw_input was called, but this frontend does not support input requests.\"\u001b[0m\u001b[0;34m\u001b[0m\u001b[0;34m\u001b[0m\u001b[0m\n\u001b[1;32m    859\u001b[0m             )\n\u001b[0;32m--> 860\u001b[0;31m         return self._input_request(str(prompt),\n\u001b[0m\u001b[1;32m    861\u001b[0m             \u001b[0mself\u001b[0m\u001b[0;34m.\u001b[0m\u001b[0m_parent_ident\u001b[0m\u001b[0;34m,\u001b[0m\u001b[0;34m\u001b[0m\u001b[0;34m\u001b[0m\u001b[0m\n\u001b[1;32m    862\u001b[0m             \u001b[0mself\u001b[0m\u001b[0;34m.\u001b[0m\u001b[0m_parent_header\u001b[0m\u001b[0;34m,\u001b[0m\u001b[0;34m\u001b[0m\u001b[0;34m\u001b[0m\u001b[0m\n",
      "\u001b[0;32m~/.local/lib/python3.8/site-packages/ipykernel/kernelbase.py\u001b[0m in \u001b[0;36m_input_request\u001b[0;34m(self, prompt, ident, parent, password)\u001b[0m\n\u001b[1;32m    902\u001b[0m             \u001b[0;32mexcept\u001b[0m \u001b[0mKeyboardInterrupt\u001b[0m\u001b[0;34m:\u001b[0m\u001b[0;34m\u001b[0m\u001b[0;34m\u001b[0m\u001b[0m\n\u001b[1;32m    903\u001b[0m                 \u001b[0;31m# re-raise KeyboardInterrupt, to truncate traceback\u001b[0m\u001b[0;34m\u001b[0m\u001b[0;34m\u001b[0m\u001b[0;34m\u001b[0m\u001b[0m\n\u001b[0;32m--> 904\u001b[0;31m                 \u001b[0;32mraise\u001b[0m \u001b[0mKeyboardInterrupt\u001b[0m\u001b[0;34m(\u001b[0m\u001b[0;34m\"Interrupted by user\"\u001b[0m\u001b[0;34m)\u001b[0m \u001b[0;32mfrom\u001b[0m \u001b[0;32mNone\u001b[0m\u001b[0;34m\u001b[0m\u001b[0;34m\u001b[0m\u001b[0m\n\u001b[0m\u001b[1;32m    905\u001b[0m             \u001b[0;32mexcept\u001b[0m \u001b[0mException\u001b[0m \u001b[0;32mas\u001b[0m \u001b[0me\u001b[0m\u001b[0;34m:\u001b[0m\u001b[0;34m\u001b[0m\u001b[0;34m\u001b[0m\u001b[0m\n\u001b[1;32m    906\u001b[0m                 \u001b[0mself\u001b[0m\u001b[0;34m.\u001b[0m\u001b[0mlog\u001b[0m\u001b[0;34m.\u001b[0m\u001b[0mwarning\u001b[0m\u001b[0;34m(\u001b[0m\u001b[0;34m\"Invalid Message:\"\u001b[0m\u001b[0;34m,\u001b[0m \u001b[0mexc_info\u001b[0m\u001b[0;34m=\u001b[0m\u001b[0;32mTrue\u001b[0m\u001b[0;34m)\u001b[0m\u001b[0;34m\u001b[0m\u001b[0;34m\u001b[0m\u001b[0m\n",
      "\u001b[0;31mKeyboardInterrupt\u001b[0m: Interrupted by user"
     ]
    }
   ],
   "source": [
    "user1 = None\n",
    "user2 = None\n",
    "\n",
    "userSign()"
   ]
  },
  {
   "cell_type": "code",
   "execution_count": null,
   "metadata": {},
   "outputs": [],
   "source": []
  }
 ],
 "metadata": {
  "kernelspec": {
   "display_name": "Python 3",
   "language": "python",
   "name": "python3"
  },
  "language_info": {
   "codemirror_mode": {
    "name": "ipython",
    "version": 3
   },
   "file_extension": ".py",
   "mimetype": "text/x-python",
   "name": "python",
   "nbconvert_exporter": "python",
   "pygments_lexer": "ipython3",
   "version": "3.8.5"
  }
 },
 "nbformat": 4,
 "nbformat_minor": 4
}
