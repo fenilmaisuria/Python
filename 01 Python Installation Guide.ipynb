{
 "cells": [
  {
   "cell_type": "markdown",
   "metadata": {},
   "source": [
    "# Python Installation Guide"
   ]
  },
  {
   "cell_type": "markdown",
   "metadata": {},
   "source": [
    "### Check if you have python is installed in system\n",
    "Write Below code in terminal or cmd\n",
    "\n",
    "**fenil@fenilmaisuria:~$ python**\n",
    "```\n",
    "Python 3.8.5 (default, Jul 28 2020, 12:59:40) \n",
    "[GCC 9.3.0] on linux\n",
    "Type \"help\", \"copyright\", \"credits\" or \"license\" for more information.\n",
    ">>> exit()\n",
    "```\n"
   ]
  },
  {
   "cell_type": "markdown",
   "metadata": {},
   "source": [
    "### Check Python version\n",
    "\n",
    "**fenil@fenilmaisuria:~$ python --version**\n",
    "```\n",
    "Python 3.8.5\n",
    "```"
   ]
  },
  {
   "cell_type": "markdown",
   "metadata": {},
   "source": [
    "### If python is not Installed"
   ]
  },
  {
   "cell_type": "markdown",
   "metadata": {},
   "source": [
    "For Linux\n",
    "\n",
    "**sudo apt-get install python3-minimal**"
   ]
  },
  {
   "cell_type": "markdown",
   "metadata": {},
   "source": [
    "### Setting Path at Unix/Linux\n",
    "```\n",
    "To add the Python directory to the path for a particular session in Unix −\n",
    "In the csh shell − type setenv PATH \"$PATH:/usr/local/bin/python3\" and press Enter.\n",
    "In the bash shell (Linux) − type export PYTHONPATH=/usr/local/bin/python3.4 and press Enter.\n",
    "In the sh or ksh shell − type PATH = \"$PATH:/usr/local/bin/python3\" and press Enter.\n",
    "\n",
    "Note − /usr/local/bin/python3 is the path of the Python directory.\n",
    "```"
   ]
  },
  {
   "cell_type": "markdown",
   "metadata": {},
   "source": [
    "### First Programm\n",
    "``` \n",
    "    fenil@fenilmaisuria:~$ python\n",
    "    Python 3.8.5 (default, Jul 28 2020, 12:59:40) \n",
    "    [GCC 9.3.0] on linux\n",
    "    Type \"help\", \"copyright\", \"credits\" or \"license\" for more information.\n",
    "    \n",
    "    >>> print ('Hello world')\n",
    "    Hello world\n",
    "```"
   ]
  },
  {
   "cell_type": "markdown",
   "metadata": {},
   "source": [
    "For More information \n",
    "    https://www.tutorialspoint.com/python3/python_environment.htm"
   ]
  }
 ],
 "metadata": {
  "kernelspec": {
   "display_name": "Python 3",
   "language": "python",
   "name": "python3"
  },
  "language_info": {
   "codemirror_mode": {
    "name": "ipython",
    "version": 3
   },
   "file_extension": ".py",
   "mimetype": "text/x-python",
   "name": "python",
   "nbconvert_exporter": "python",
   "pygments_lexer": "ipython3",
   "version": "3.8.5"
  }
 },
 "nbformat": 4,
 "nbformat_minor": 4
}
