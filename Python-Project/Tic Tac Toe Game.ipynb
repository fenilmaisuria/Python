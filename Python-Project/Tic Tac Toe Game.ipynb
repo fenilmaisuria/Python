{
 "cells": [
  {
   "cell_type": "code",
   "execution_count": 1,
   "metadata": {},
   "outputs": [],
   "source": [
    "board = {1:1,2:2,3:3,4:4,5:5,6:6,7:7,8:8,9:9}"
   ]
  },
  {
   "cell_type": "code",
   "execution_count": 2,
   "metadata": {},
   "outputs": [],
   "source": [
    "def boarddesign(b):\n",
    "    print(b[1],'|',b[2],'|',b[3])\n",
    "    print(\"--+---+--\")\n",
    "    print(b[4],'|',b[5],'|',b[6])\n",
    "    print(\"--+---+--\")\n",
    "    print(b[7],'|',b[8],'|',b[9],'\\n')"
   ]
  },
  {
   "cell_type": "code",
   "execution_count": 3,
   "metadata": {},
   "outputs": [],
   "source": [
    "def checkmatch(sign):\n",
    "    if board[1] == sign and board[2] == sign and board[3] == sign:\n",
    "        print(\"user {} is winner\".format(sign))\n",
    "        return True\n",
    "    elif board[4] == sign and board[5] == sign and board[6] == sign:\n",
    "        print(\"user {} is winner\".format(sign))\n",
    "        return True\n",
    "    elif board[7] == sign and board[8] == sign and board[9] == sign:\n",
    "        print(\"user {} is winner\".format(sign))\n",
    "        return True\n",
    "    elif board[1] == sign and board[4] == sign and board[7] == sign:\n",
    "        print(\"user {} is winner\".format(sign))\n",
    "        return True\n",
    "    elif board[2] == sign and board[5] == sign and board[8] == sign:\n",
    "        print(\"user {} is winner\".format(sign))\n",
    "        return True\n",
    "    elif board[3] == sign and board[6] == sign and board[9] == sign:\n",
    "        print(\"user {} is winner\".format(sign))\n",
    "        return True\n",
    "    elif board[1] == sign and board[5] == sign and board[9] == sign:\n",
    "        print(\"user {} is winner\".format(sign))\n",
    "        return True\n",
    "    elif board[3] == sign and board[5] == sign and board[7] == sign:\n",
    "        print(\"user {} is winner\".format(sign))\n",
    "        return True\n",
    "\n",
    "    "
   ]
  },
  {
   "cell_type": "code",
   "execution_count": 4,
   "metadata": {},
   "outputs": [],
   "source": [
    "def movecheck(sign):\n",
    "    move =int(input(\"Turn : \"+sign+\" \"))\n",
    "    if(move == board[move]):\n",
    "        board[move] = sign\n",
    "        boarddesign(board)\n",
    "    else:\n",
    "        print(\"Already taken \\nPlaese select shown number\")\n",
    "        movecheck(sign)\n",
    "        "
   ]
  },
  {
   "cell_type": "code",
   "execution_count": 5,
   "metadata": {},
   "outputs": [],
   "source": [
    "def userMove(user1,user2):\n",
    "    user1 = user1\n",
    "    user2 = user2\n",
    "    if(user1 != None and user2 != None):\n",
    "        for i in board:\n",
    "            if (i % 2) == 0:         \n",
    "                usersign = user2\n",
    "                movecheck(usersign)\n",
    "                if i >= 5:\n",
    "                    x = checkmatch(usersign)\n",
    "                    if x == True:\n",
    "                        break\n",
    "            else:\n",
    "                if i == 1:\n",
    "                    boarddesign(board)\n",
    "                    print(\"Enter number according to board \\n\")\n",
    "\n",
    "                usersign = user1\n",
    "                movecheck(usersign)\n",
    "                if i >= 5:\n",
    "                    x = checkmatch(usersign)\n",
    "                    if x == True:\n",
    "                        break\n",
    "                    if i == 9:\n",
    "                        if x!=True:\n",
    "                            print(\"Game Tie\")"
   ]
  },
  {
   "cell_type": "code",
   "execution_count": 6,
   "metadata": {},
   "outputs": [],
   "source": [
    "def userSign():    \n",
    "    usersymbol = str(input(\"Player 1 please select your symbol(O or X) : \"))\n",
    "    if usersymbol == 'o' or usersymbol == 'O':\n",
    "        user1 = 'O'\n",
    "        user2 = 'X'\n",
    "        print(\"Player 1 Symbol is : {} \\nPlayer 2 Symbol is : {}\".format(user1,user2))\n",
    "        userMove(user1,user2)\n",
    "    elif usersymbol == 'x' or usersymbol == 'X':\n",
    "        print(usersymbol)\n",
    "        user1 = 'X'\n",
    "        user2 = 'O'\n",
    "        print(\"Player 1 Symbol is : {} \\nPlayer 2 Symbol is : {}\".format(user1,user2))\n",
    "        userMove(user1,user2)\n",
    "    else :\n",
    "        print(\"Enter valid input\")\n",
    "        userSign()"
   ]
  },
  {
   "cell_type": "code",
   "execution_count": 7,
   "metadata": {},
   "outputs": [
    {
     "name": "stdin",
     "output_type": "stream",
     "text": [
      "Player 1 please select your symbol(O or X) :  o\n"
     ]
    },
    {
     "name": "stdout",
     "output_type": "stream",
     "text": [
      "Player 1 Symbol is : O \n",
      "Player 2 Symbol is : X\n",
      "1 | 2 | 3\n",
      "--+---+--\n",
      "4 | 5 | 6\n",
      "--+---+--\n",
      "7 | 8 | 9 \n",
      "\n",
      "Enter number according to board \n",
      "\n"
     ]
    },
    {
     "name": "stdin",
     "output_type": "stream",
     "text": [
      "Turn : O  1\n"
     ]
    },
    {
     "name": "stdout",
     "output_type": "stream",
     "text": [
      "O | 2 | 3\n",
      "--+---+--\n",
      "4 | 5 | 6\n",
      "--+---+--\n",
      "7 | 8 | 9 \n",
      "\n"
     ]
    },
    {
     "name": "stdin",
     "output_type": "stream",
     "text": [
      "Turn : X  2\n"
     ]
    },
    {
     "name": "stdout",
     "output_type": "stream",
     "text": [
      "O | X | 3\n",
      "--+---+--\n",
      "4 | 5 | 6\n",
      "--+---+--\n",
      "7 | 8 | 9 \n",
      "\n"
     ]
    },
    {
     "name": "stdin",
     "output_type": "stream",
     "text": [
      "Turn : O  3\n"
     ]
    },
    {
     "name": "stdout",
     "output_type": "stream",
     "text": [
      "O | X | O\n",
      "--+---+--\n",
      "4 | 5 | 6\n",
      "--+---+--\n",
      "7 | 8 | 9 \n",
      "\n"
     ]
    },
    {
     "name": "stdin",
     "output_type": "stream",
     "text": [
      "Turn : X  4\n"
     ]
    },
    {
     "name": "stdout",
     "output_type": "stream",
     "text": [
      "O | X | O\n",
      "--+---+--\n",
      "X | 5 | 6\n",
      "--+---+--\n",
      "7 | 8 | 9 \n",
      "\n"
     ]
    },
    {
     "name": "stdin",
     "output_type": "stream",
     "text": [
      "Turn : O  5\n"
     ]
    },
    {
     "name": "stdout",
     "output_type": "stream",
     "text": [
      "O | X | O\n",
      "--+---+--\n",
      "X | O | 6\n",
      "--+---+--\n",
      "7 | 8 | 9 \n",
      "\n"
     ]
    },
    {
     "name": "stdin",
     "output_type": "stream",
     "text": [
      "Turn : X  6\n"
     ]
    },
    {
     "name": "stdout",
     "output_type": "stream",
     "text": [
      "O | X | O\n",
      "--+---+--\n",
      "X | O | X\n",
      "--+---+--\n",
      "7 | 8 | 9 \n",
      "\n"
     ]
    },
    {
     "name": "stdin",
     "output_type": "stream",
     "text": [
      "Turn : O  8\n"
     ]
    },
    {
     "name": "stdout",
     "output_type": "stream",
     "text": [
      "O | X | O\n",
      "--+---+--\n",
      "X | O | X\n",
      "--+---+--\n",
      "7 | O | 9 \n",
      "\n"
     ]
    },
    {
     "name": "stdin",
     "output_type": "stream",
     "text": [
      "Turn : X  7\n"
     ]
    },
    {
     "name": "stdout",
     "output_type": "stream",
     "text": [
      "O | X | O\n",
      "--+---+--\n",
      "X | O | X\n",
      "--+---+--\n",
      "X | O | 9 \n",
      "\n"
     ]
    },
    {
     "name": "stdin",
     "output_type": "stream",
     "text": [
      "Turn : O  9\n"
     ]
    },
    {
     "name": "stdout",
     "output_type": "stream",
     "text": [
      "O | X | O\n",
      "--+---+--\n",
      "X | O | X\n",
      "--+---+--\n",
      "X | O | O \n",
      "\n",
      "user O is winner\n"
     ]
    }
   ],
   "source": [
    "user1 = None\n",
    "user2 = None\n",
    "\n",
    "userSign()\n",
    "\n"
   ]
  },
  {
   "cell_type": "code",
   "execution_count": null,
   "metadata": {},
   "outputs": [],
   "source": []
  },
  {
   "cell_type": "code",
   "execution_count": null,
   "metadata": {},
   "outputs": [],
   "source": []
  },
  {
   "cell_type": "code",
   "execution_count": null,
   "metadata": {},
   "outputs": [],
   "source": []
  }
 ],
 "metadata": {
  "kernelspec": {
   "display_name": "Python 3",
   "language": "python",
   "name": "python3"
  },
  "language_info": {
   "codemirror_mode": {
    "name": "ipython",
    "version": 3
   },
   "file_extension": ".py",
   "mimetype": "text/x-python",
   "name": "python",
   "nbconvert_exporter": "python",
   "pygments_lexer": "ipython3",
   "version": "3.8.5"
  }
 },
 "nbformat": 4,
 "nbformat_minor": 4
}
