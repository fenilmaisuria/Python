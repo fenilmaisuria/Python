{
 "cells": [
  {
   "cell_type": "code",
   "execution_count": 1,
   "metadata": {},
   "outputs": [],
   "source": [
    "board = {1:1,2:2,3:3,4:4,5:5,6:6,7:7,8:8,9:9}"
   ]
  },
  {
   "cell_type": "code",
   "execution_count": 2,
   "metadata": {},
   "outputs": [
    {
     "name": "stdout",
     "output_type": "stream",
     "text": [
      "1 | 2 | 3\n",
      "--+---+--\n",
      "4 | 5 | 6\n",
      "--+---+--\n",
      "7 | 8 | 9 \n",
      "\n"
     ]
    }
   ],
   "source": [
    "def boarddesign(b):\n",
    "    print(b[1],'|',b[2],'|',b[3])\n",
    "    print(\"--+---+--\")\n",
    "    print(b[4],'|',b[5],'|',b[6])\n",
    "    print(\"--+---+--\")\n",
    "    print(b[7],'|',b[8],'|',b[9],'\\n')\n",
    "    \n",
    "boarddesign(board)"
   ]
  },
  {
   "cell_type": "code",
   "execution_count": 3,
   "metadata": {},
   "outputs": [],
   "source": [
    "def checkmatch(sign):\n",
    "    if board[1] == sign and board[2] == sign and board[3] == sign:\n",
    "        print(\"user {} is winner\".format(sign))\n",
    "        return True\n",
    "    elif board[4] == sign and board[5] == sign and board[6] == sign:\n",
    "        print(\"user {} is winner\".format(sign))\n",
    "        return True\n",
    "    elif board[7] == sign and board[8] == sign and board[9] == sign:\n",
    "        print(\"user {} is winner\".format(sign))\n",
    "        return True\n",
    "    elif board[1] == sign and board[4] == sign and board[7] == sign:\n",
    "        print(\"user {} is winner\".format(sign))\n",
    "        return True\n",
    "    elif board[2] == sign and board[5] == sign and board[8] == sign:\n",
    "        print(\"user {} is winner\".format(sign))\n",
    "        return True\n",
    "    elif board[3] == sign and board[6] == sign and board[9] == sign:\n",
    "        print(\"user {} is winner\".format(sign))\n",
    "        return True\n",
    "    elif board[1] == sign and board[5] == sign and board[9] == sign:\n",
    "        print(\"user {} is winner\".format(sign))\n",
    "        return True\n",
    "    elif board[3] == sign and board[5] == sign and board[7] == sign:\n",
    "        print(\"user {} is winner\".format(sign))\n",
    "        return True"
   ]
  },
  {
   "cell_type": "code",
   "execution_count": 4,
   "metadata": {},
   "outputs": [],
   "source": [
    "def movecheck(sign):\n",
    "    \n",
    "    move =int(input(\"Turn : \"+sign))\n",
    "    if(move == board[move]):\n",
    "        board[move] = sign\n",
    "        boarddesign(board)\n",
    "    else:\n",
    "        print(\"Already taken\")\n",
    "        movecheck(sign)\n",
    "        "
   ]
  },
  {
   "cell_type": "code",
   "execution_count": 5,
   "metadata": {},
   "outputs": [],
   "source": [
    "def play(i,sign):\n",
    "    print(\"play()\")\n",
    "    i = i\n",
    "    usersign = sign\n",
    "    if(i == board[i]):\n",
    "        movecheck(usersign)\n",
    "    else:\n",
    "        movecheck(usersign)"
   ]
  },
  {
   "cell_type": "code",
   "execution_count": 6,
   "metadata": {},
   "outputs": [
    {
     "name": "stdout",
     "output_type": "stream",
     "text": [
      "1 | 2 | 3\n",
      "--+---+--\n",
      "4 | 5 | 6\n",
      "--+---+--\n",
      "7 | 8 | 9 \n",
      "\n"
     ]
    },
    {
     "name": "stdin",
     "output_type": "stream",
     "text": [
      "Turn : O 3\n"
     ]
    },
    {
     "name": "stdout",
     "output_type": "stream",
     "text": [
      "1 | 2 | O\n",
      "--+---+--\n",
      "4 | 5 | 6\n",
      "--+---+--\n",
      "7 | 8 | 9 \n",
      "\n"
     ]
    },
    {
     "name": "stdin",
     "output_type": "stream",
     "text": [
      "Turn : X 1\n"
     ]
    },
    {
     "name": "stdout",
     "output_type": "stream",
     "text": [
      "X | 2 | O\n",
      "--+---+--\n",
      "4 | 5 | 6\n",
      "--+---+--\n",
      "7 | 8 | 9 \n",
      "\n"
     ]
    },
    {
     "name": "stdin",
     "output_type": "stream",
     "text": [
      "Turn : O 4\n"
     ]
    },
    {
     "name": "stdout",
     "output_type": "stream",
     "text": [
      "X | 2 | O\n",
      "--+---+--\n",
      "O | 5 | 6\n",
      "--+---+--\n",
      "7 | 8 | 9 \n",
      "\n"
     ]
    },
    {
     "name": "stdin",
     "output_type": "stream",
     "text": [
      "Turn : X 2\n"
     ]
    },
    {
     "name": "stdout",
     "output_type": "stream",
     "text": [
      "X | X | O\n",
      "--+---+--\n",
      "O | 5 | 6\n",
      "--+---+--\n",
      "7 | 8 | 9 \n",
      "\n"
     ]
    },
    {
     "name": "stdin",
     "output_type": "stream",
     "text": [
      "Turn : O 5\n"
     ]
    },
    {
     "name": "stdout",
     "output_type": "stream",
     "text": [
      "X | X | O\n",
      "--+---+--\n",
      "O | O | 6\n",
      "--+---+--\n",
      "7 | 8 | 9 \n",
      "\n"
     ]
    },
    {
     "name": "stdin",
     "output_type": "stream",
     "text": [
      "Turn : X 6\n"
     ]
    },
    {
     "name": "stdout",
     "output_type": "stream",
     "text": [
      "X | X | O\n",
      "--+---+--\n",
      "O | O | X\n",
      "--+---+--\n",
      "7 | 8 | 9 \n",
      "\n"
     ]
    },
    {
     "name": "stdin",
     "output_type": "stream",
     "text": [
      "Turn : O 8\n"
     ]
    },
    {
     "name": "stdout",
     "output_type": "stream",
     "text": [
      "X | X | O\n",
      "--+---+--\n",
      "O | O | X\n",
      "--+---+--\n",
      "7 | O | 9 \n",
      "\n"
     ]
    },
    {
     "name": "stdin",
     "output_type": "stream",
     "text": [
      "Turn : X 1\n"
     ]
    },
    {
     "name": "stdout",
     "output_type": "stream",
     "text": [
      "Already taken\n"
     ]
    },
    {
     "name": "stdin",
     "output_type": "stream",
     "text": [
      "Turn : X 2\n"
     ]
    },
    {
     "name": "stdout",
     "output_type": "stream",
     "text": [
      "Already taken\n"
     ]
    },
    {
     "name": "stdin",
     "output_type": "stream",
     "text": [
      "Turn : X 3\n"
     ]
    },
    {
     "name": "stdout",
     "output_type": "stream",
     "text": [
      "Already taken\n"
     ]
    },
    {
     "name": "stdin",
     "output_type": "stream",
     "text": [
      "Turn : X 4\n"
     ]
    },
    {
     "name": "stdout",
     "output_type": "stream",
     "text": [
      "Already taken\n"
     ]
    },
    {
     "name": "stdin",
     "output_type": "stream",
     "text": [
      "Turn : X 5\n"
     ]
    },
    {
     "name": "stdout",
     "output_type": "stream",
     "text": [
      "Already taken\n"
     ]
    },
    {
     "name": "stdin",
     "output_type": "stream",
     "text": [
      "Turn : X 6\n"
     ]
    },
    {
     "name": "stdout",
     "output_type": "stream",
     "text": [
      "Already taken\n"
     ]
    },
    {
     "name": "stdin",
     "output_type": "stream",
     "text": [
      "Turn : X 8\n"
     ]
    },
    {
     "name": "stdout",
     "output_type": "stream",
     "text": [
      "Already taken\n"
     ]
    },
    {
     "name": "stdin",
     "output_type": "stream",
     "text": [
      "Turn : X 7\n"
     ]
    },
    {
     "name": "stdout",
     "output_type": "stream",
     "text": [
      "X | X | O\n",
      "--+---+--\n",
      "O | O | X\n",
      "--+---+--\n",
      "X | O | 9 \n",
      "\n"
     ]
    },
    {
     "name": "stdin",
     "output_type": "stream",
     "text": [
      "Turn : O 9\n"
     ]
    },
    {
     "name": "stdout",
     "output_type": "stream",
     "text": [
      "X | X | O\n",
      "--+---+--\n",
      "O | O | X\n",
      "--+---+--\n",
      "X | O | O \n",
      "\n"
     ]
    }
   ],
   "source": [
    "for i in board:\n",
    "    if (i % 2) == 0:\n",
    "        usersign = 'X'\n",
    "        play(i,usersign)\n",
    "        if i >= 5:\n",
    "            x = checkmatch(usersign)\n",
    "            if x == True:\n",
    "                break\n",
    "    else:\n",
    "        if i == 1:\n",
    "            boarddesign(board)\n",
    "        usersign = 'O'\n",
    "        play(i,usersign)\n",
    "        if i >= 5:\n",
    "            x = checkmatch(usersign)\n",
    "            if x == True:\n",
    "                break\n",
    "    "
   ]
  },
  {
   "cell_type": "code",
   "execution_count": null,
   "metadata": {},
   "outputs": [],
   "source": []
  }
 ],
 "metadata": {
  "kernelspec": {
   "display_name": "Python 3",
   "language": "python",
   "name": "python3"
  },
  "language_info": {
   "codemirror_mode": {
    "name": "ipython",
    "version": 3
   },
   "file_extension": ".py",
   "mimetype": "text/x-python",
   "name": "python",
   "nbconvert_exporter": "python",
   "pygments_lexer": "ipython3",
   "version": "3.8.5"
  }
 },
 "nbformat": 4,
 "nbformat_minor": 4
}
