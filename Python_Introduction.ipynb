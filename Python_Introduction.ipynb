{
 "cells": [
  {
   "cell_type": "markdown",
   "metadata": {},
   "source": [
    "![title](GuidoVanRossum.jpg)"
   ]
  },
  {
   "cell_type": "markdown",
   "metadata": {},
   "source": [
    "# Guido van Rossum \n",
    "> A **Dutch Programmer** best known as the **Creator** of the **Python Programming Language**\n",
    "\n",
    "> Python is **named** after a TV Show called **Monty Python's Flying Circus** and not after Python-the snake.\n",
    "\n",
    "> Python **Source Code** is available under the **GNU General Public License (GPL)**. "
   ]
  },
  {
   "cell_type": "markdown",
   "metadata": {},
   "source": [
    "### Python was **Created** in the late **1980s** by **Guido van Rossum** as a successor to the ABC programming language.\n",
    " - Python **first** released in **1991**\n",
    " - Python **1.0** released in **Jan 1994**\n",
    " - Python **2.0** released in **2000**\n",
    " - Python **3.0** released in **2008**\n",
    " - Python **3.9.0** released on **5 October 2020**"
   ]
  },
  {
   "cell_type": "markdown",
   "metadata": {},
   "source": [
    "### **Python is a General-purpose, Interpreted, Interactive, Object-oriented, and High-level programming language**\n",
    "- **General-purpose**  -Python for developing desktop GUI applications, websites and web applications.\n",
    "- **Interpreted**      -Processed at runtime by the interpreter.\n",
    "- **Interactive**      -Python prompt and interact with the interpreter directly\n",
    "- **Object-oriented**  -Technique of programming that encapsulates code within objects.\n",
    "- **High-level**       -Strong abstraction from the details of the computer. "
   ]
  },
  {
   "cell_type": "markdown",
   "metadata": {},
   "source": [
    "### **Characteristics of Python**\n",
    "- Functional and structured programming methods as well as OOP.\n",
    "- Used as a scripting language or can be compiled to byte-code for building large applications.\n",
    "- Very high-level dynamic data types and supports dynamic type checking.\n",
    "- Supports automatic garbage collection.\n",
    "- Easily integrated with C, C++, COM, ActiveX, CORBA, and Java."
   ]
  },
  {
   "cell_type": "markdown",
   "metadata": {},
   "source": [
    "### **Applications of Python**\n",
    "1. **Easy-to-learn** -few keywords, simple structure, and a clearly defined syntax\n",
    "2. **Easy-to-read** -more clearly defined and visible to the eyes\n",
    "3. **Easy-to-maintain** -source code is fairly easy-to-maintain\n",
    "4. **A broad standard library** -bulk of the library is very portable and cross-platform compatible\n",
    "5. **Interactive Mode** -interactive testing and debugging of snippets of code\n",
    "6. **Portable**   -run on a wide variety of hardware platforms and has the same interface on all platforms\n",
    "7. **Extendable**  -add low-level modules to the Python interpreter\n",
    "8. **Databases**   -interfaces to all major commercial databases\n",
    "9. **GUI Programming**   -Python supports GUI applications that can be created and ported to many system calls, libraries and windows systems\n",
    "10. **Scalable**   -better structure and support for large programs than shell scripting."
   ]
  }
 ],
 "metadata": {
  "kernelspec": {
   "display_name": "Python 3",
   "language": "python",
   "name": "python3"
  },
  "language_info": {
   "codemirror_mode": {
    "name": "ipython",
    "version": 3
   },
   "file_extension": ".py",
   "mimetype": "text/x-python",
   "name": "python",
   "nbconvert_exporter": "python",
   "pygments_lexer": "ipython3",
   "version": "3.8.5"
  }
 },
 "nbformat": 4,
 "nbformat_minor": 4
}
