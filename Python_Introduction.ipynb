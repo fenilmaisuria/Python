{
 "cells": [
  {
   "cell_type": "markdown",
   "metadata": {},
   "source": [
    "![title](GuidoVanRossum.jpg)"
   ]
  },
  {
   "cell_type": "markdown",
   "metadata": {},
   "source": [
    "## Guido van Rossum \n",
    "A Dutch programmer best known as the creator of the Python programming language,"
   ]
  },
  {
   "cell_type": "markdown",
   "metadata": {},
   "source": [
    "Python source code is available under the GNU General Public License (GPL). "
   ]
  },
  {
   "cell_type": "markdown",
   "metadata": {},
   "source": [
    "Python is named after a TV Show called ëMonty Pythonís Flying Circusí and not after Python-the snake."
   ]
  },
  {
   "cell_type": "markdown",
   "metadata": {},
   "source": [
    "Python was created in the late 1980s by Guido van Rossum as a successor to the ABC programming language. \n",
    "- Python first released in 1991\n",
    "- Python 1.0 released in Jan 1994\n",
    "- Python 2.0 released in 2000\n",
    "- Python 3.0 released in 2008\n",
    "- Python 3.9.0 released on 5 October 2020"
   ]
  },
  {
   "cell_type": "markdown",
   "metadata": {},
   "source": [
    "Python 2 code does not run unmodified on Python 3."
   ]
  },
  {
   "cell_type": "markdown",
   "metadata": {},
   "source": [
    "Python is a general-purpose, interpreted, interactive, object-oriented, and high-level programming language.\n",
    "- general-purpose  -Python for developing desktop GUI applications, websites and web applications.\n",
    "- interpreted      -processed at runtime by the interpreter.\n",
    "- interactive      -Python prompt and interact with the interpreter directly\n",
    "- object-oriented  -technique of programming that encapsulates code within objects.\n",
    "- high-level       -strong abstraction from the details of the computer. "
   ]
  },
  {
   "cell_type": "markdown",
   "metadata": {},
   "source": [
    "Characteristics of Python\n",
    "- functional and structured programming methods as well as OOP.\n",
    "- used as a scripting language or can be compiled to byte-code for building large applications.\n",
    "- very high-level dynamic data types and supports dynamic type checking.\n",
    "- supports automatic garbage collection.\n",
    "- easily integrated with C, C++, COM, ActiveX, CORBA, and Java."
   ]
  },
  {
   "cell_type": "markdown",
   "metadata": {},
   "source": [
    "Applications of Python\n",
    "- Easy-to-learn \n",
    "- Easy-to-read \n",
    "- Easy-to-maintain \n",
    "- A broad standard library \n",
    "- Interactive Mode \n",
    "- Portable \n",
    "- Extendable\n",
    "- Databases \n",
    "- GUI Programming \n",
    "- Scalable"
   ]
  },
  {
   "cell_type": "markdown",
   "metadata": {},
   "source": []
  },
  {
   "cell_type": "markdown",
   "metadata": {},
   "source": []
  },
  {
   "cell_type": "markdown",
   "metadata": {},
   "source": []
  },
  {
   "cell_type": "markdown",
   "metadata": {},
   "source": []
  },
  {
   "cell_type": "markdown",
   "metadata": {},
   "source": []
  },
  {
   "cell_type": "markdown",
   "metadata": {},
   "source": []
  }
 ],
 "metadata": {
  "kernelspec": {
   "display_name": "Python 3",
   "language": "python",
   "name": "python3"
  },
  "language_info": {
   "codemirror_mode": {
    "name": "ipython",
    "version": 3
   },
   "file_extension": ".py",
   "mimetype": "text/x-python",
   "name": "python",
   "nbconvert_exporter": "python",
   "pygments_lexer": "ipython3",
   "version": "3.8.5"
  }
 },
 "nbformat": 4,
 "nbformat_minor": 4
}
